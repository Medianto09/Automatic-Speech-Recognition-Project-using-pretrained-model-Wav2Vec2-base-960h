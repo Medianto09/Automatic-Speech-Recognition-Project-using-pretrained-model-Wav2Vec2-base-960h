{
  "cells": [
    {
      "cell_type": "markdown",
      "metadata": {
        "id": "view-in-github",
        "colab_type": "text"
      },
      "source": [
        "<a href=\"https://colab.research.google.com/github/Medianto09/Automatic-Speech-Recognition-Project-using-pretrained-model-Wav2Vec2-base-960h/blob/main/ASR_Minds_enAU_Wav2Vec2.ipynb\" target=\"_parent\"><img src=\"https://colab.research.google.com/assets/colab-badge.svg\" alt=\"Open In Colab\"/></a>"
      ]
    },
    {
      "cell_type": "markdown",
      "source": [
        "# Automatic Speech Recognition Project - pretrained model Wav2Vec2-base-960h - Minds-en AU"
      ],
      "metadata": {
        "id": "79tITyUGXXRE"
      }
    },
    {
      "cell_type": "markdown",
      "source": [
        "# Mempersiapkan Environment"
      ],
      "metadata": {
        "id": "Vz5LJh9wXz9s"
      }
    },
    {
      "cell_type": "markdown",
      "source": [
        "## Check GPU & Memory"
      ],
      "metadata": {
        "id": "E5jijQ4kXXlK"
      }
    },
    {
      "cell_type": "code",
      "execution_count": null,
      "metadata": {
        "colab": {
          "base_uri": "https://localhost:8080/"
        },
        "id": "a0-5zjizad3Y",
        "outputId": "abc2ab4d-b177-4a57-d164-db176668743b"
      },
      "outputs": [
        {
          "output_type": "stream",
          "name": "stdout",
          "text": [
            "Fri May  3 07:54:26 2024       \n",
            "+---------------------------------------------------------------------------------------+\n",
            "| NVIDIA-SMI 535.104.05             Driver Version: 535.104.05   CUDA Version: 12.2     |\n",
            "|-----------------------------------------+----------------------+----------------------+\n",
            "| GPU  Name                 Persistence-M | Bus-Id        Disp.A | Volatile Uncorr. ECC |\n",
            "| Fan  Temp   Perf          Pwr:Usage/Cap |         Memory-Usage | GPU-Util  Compute M. |\n",
            "|                                         |                      |               MIG M. |\n",
            "|=========================================+======================+======================|\n",
            "|   0  Tesla V100-SXM2-16GB           Off | 00000000:00:04.0 Off |                    0 |\n",
            "| N/A   33C    P0              23W / 300W |      0MiB / 16384MiB |      0%      Default |\n",
            "|                                         |                      |                  N/A |\n",
            "+-----------------------------------------+----------------------+----------------------+\n",
            "                                                                                         \n",
            "+---------------------------------------------------------------------------------------+\n",
            "| Processes:                                                                            |\n",
            "|  GPU   GI   CI        PID   Type   Process name                            GPU Memory |\n",
            "|        ID   ID                                                             Usage      |\n",
            "|=======================================================================================|\n",
            "|  No running processes found                                                           |\n",
            "+---------------------------------------------------------------------------------------+\n"
          ]
        }
      ],
      "source": [
        "gpu_info = !nvidia-smi\n",
        "gpu_info = '\\n'.join(gpu_info)\n",
        "if gpu_info.find('failed') >= 0:\n",
        "  print('Not connected to a GPU')\n",
        "else:\n",
        "  print(gpu_info)"
      ]
    },
    {
      "cell_type": "code",
      "execution_count": null,
      "metadata": {
        "colab": {
          "base_uri": "https://localhost:8080/"
        },
        "id": "QSLiQUq-doou",
        "outputId": "d4c9f610-fcd7-41c1-dce0-5ba0b29540db"
      },
      "outputs": [
        {
          "output_type": "stream",
          "name": "stdout",
          "text": [
            "Your runtime has 54.8 gigabytes of available RAM\n",
            "\n",
            "You are using a high-RAM runtime!\n"
          ]
        }
      ],
      "source": [
        "from psutil import virtual_memory\n",
        "ram_gb = virtual_memory().total / 1e9\n",
        "print('Your runtime has {:.1f} gigabytes of available RAM\\n'.format(ram_gb))\n",
        "\n",
        "if ram_gb < 20:\n",
        "  print('Not using a high-RAM runtime')\n",
        "else:\n",
        "  print('You are using a high-RAM runtime!')"
      ]
    },
    {
      "cell_type": "markdown",
      "metadata": {
        "id": "JCzpc0eUdqiP"
      },
      "source": [
        "# Mempersiapkan Library"
      ]
    },
    {
      "cell_type": "code",
      "execution_count": null,
      "metadata": {
        "colab": {
          "base_uri": "https://localhost:8080/"
        },
        "id": "_D4_hJ8-dokG",
        "outputId": "3388b4b3-3196-492b-cc25-57e17c3f007c"
      },
      "outputs": [
        {
          "output_type": "stream",
          "name": "stdout",
          "text": [
            "Requirement already satisfied: torchaudio in /usr/local/lib/python3.10/dist-packages (2.2.1+cu121)\n",
            "Requirement already satisfied: torch==2.2.1 in /usr/local/lib/python3.10/dist-packages (from torchaudio) (2.2.1+cu121)\n",
            "Requirement already satisfied: filelock in /usr/local/lib/python3.10/dist-packages (from torch==2.2.1->torchaudio) (3.14.0)\n",
            "Requirement already satisfied: typing-extensions>=4.8.0 in /usr/local/lib/python3.10/dist-packages (from torch==2.2.1->torchaudio) (4.11.0)\n",
            "Requirement already satisfied: sympy in /usr/local/lib/python3.10/dist-packages (from torch==2.2.1->torchaudio) (1.12)\n",
            "Requirement already satisfied: networkx in /usr/local/lib/python3.10/dist-packages (from torch==2.2.1->torchaudio) (3.3)\n",
            "Requirement already satisfied: jinja2 in /usr/local/lib/python3.10/dist-packages (from torch==2.2.1->torchaudio) (3.1.3)\n",
            "Requirement already satisfied: fsspec in /usr/local/lib/python3.10/dist-packages (from torch==2.2.1->torchaudio) (2023.6.0)\n",
            "Requirement already satisfied: nvidia-cuda-nvrtc-cu12==12.1.105 in /root/.local/lib/python3.10/site-packages (from torch==2.2.1->torchaudio) (12.1.105)\n",
            "Requirement already satisfied: nvidia-cuda-runtime-cu12==12.1.105 in /root/.local/lib/python3.10/site-packages (from torch==2.2.1->torchaudio) (12.1.105)\n",
            "Requirement already satisfied: nvidia-cuda-cupti-cu12==12.1.105 in /root/.local/lib/python3.10/site-packages (from torch==2.2.1->torchaudio) (12.1.105)\n",
            "Requirement already satisfied: nvidia-cudnn-cu12==8.9.2.26 in /root/.local/lib/python3.10/site-packages (from torch==2.2.1->torchaudio) (8.9.2.26)\n",
            "Requirement already satisfied: nvidia-cublas-cu12==12.1.3.1 in /root/.local/lib/python3.10/site-packages (from torch==2.2.1->torchaudio) (12.1.3.1)\n",
            "Requirement already satisfied: nvidia-cufft-cu12==11.0.2.54 in /root/.local/lib/python3.10/site-packages (from torch==2.2.1->torchaudio) (11.0.2.54)\n",
            "Requirement already satisfied: nvidia-curand-cu12==10.3.2.106 in /root/.local/lib/python3.10/site-packages (from torch==2.2.1->torchaudio) (10.3.2.106)\n",
            "Requirement already satisfied: nvidia-cusolver-cu12==11.4.5.107 in /root/.local/lib/python3.10/site-packages (from torch==2.2.1->torchaudio) (11.4.5.107)\n",
            "Requirement already satisfied: nvidia-cusparse-cu12==12.1.0.106 in /root/.local/lib/python3.10/site-packages (from torch==2.2.1->torchaudio) (12.1.0.106)\n",
            "Requirement already satisfied: nvidia-nccl-cu12==2.19.3 in /root/.local/lib/python3.10/site-packages (from torch==2.2.1->torchaudio) (2.19.3)\n",
            "Requirement already satisfied: nvidia-nvtx-cu12==12.1.105 in /root/.local/lib/python3.10/site-packages (from torch==2.2.1->torchaudio) (12.1.105)\n",
            "Requirement already satisfied: triton==2.2.0 in /usr/local/lib/python3.10/dist-packages (from torch==2.2.1->torchaudio) (2.2.0)\n",
            "Requirement already satisfied: nvidia-nvjitlink-cu12 in /root/.local/lib/python3.10/site-packages (from nvidia-cusolver-cu12==11.4.5.107->torch==2.2.1->torchaudio) (12.4.127)\n",
            "Requirement already satisfied: MarkupSafe>=2.0 in /usr/local/lib/python3.10/dist-packages (from jinja2->torch==2.2.1->torchaudio) (2.1.5)\n",
            "Requirement already satisfied: mpmath>=0.19 in /usr/local/lib/python3.10/dist-packages (from sympy->torch==2.2.1->torchaudio) (1.3.0)\n",
            "Requirement already satisfied: librosa in /usr/local/lib/python3.10/dist-packages (0.10.1)\n",
            "Requirement already satisfied: transformers in /usr/local/lib/python3.10/dist-packages (4.40.1)\n",
            "Requirement already satisfied: torch in /usr/local/lib/python3.10/dist-packages (2.2.1+cu121)\n",
            "Requirement already satisfied: audioread>=2.1.9 in /usr/local/lib/python3.10/dist-packages (from librosa) (3.0.1)\n",
            "Requirement already satisfied: numpy!=1.22.0,!=1.22.1,!=1.22.2,>=1.20.3 in /usr/local/lib/python3.10/dist-packages (from librosa) (1.25.2)\n",
            "Requirement already satisfied: scipy>=1.2.0 in /usr/local/lib/python3.10/dist-packages (from librosa) (1.11.4)\n",
            "Requirement already satisfied: scikit-learn>=0.20.0 in /usr/local/lib/python3.10/dist-packages (from librosa) (1.2.2)\n",
            "Requirement already satisfied: joblib>=0.14 in /usr/local/lib/python3.10/dist-packages (from librosa) (1.4.0)\n",
            "Requirement already satisfied: decorator>=4.3.0 in /usr/local/lib/python3.10/dist-packages (from librosa) (4.4.2)\n",
            "Requirement already satisfied: numba>=0.51.0 in /usr/local/lib/python3.10/dist-packages (from librosa) (0.58.1)\n",
            "Requirement already satisfied: soundfile>=0.12.1 in /usr/local/lib/python3.10/dist-packages (from librosa) (0.12.1)\n",
            "Requirement already satisfied: pooch>=1.0 in /usr/local/lib/python3.10/dist-packages (from librosa) (1.8.1)\n",
            "Requirement already satisfied: soxr>=0.3.2 in /usr/local/lib/python3.10/dist-packages (from librosa) (0.3.7)\n",
            "Requirement already satisfied: typing-extensions>=4.1.1 in /usr/local/lib/python3.10/dist-packages (from librosa) (4.11.0)\n",
            "Requirement already satisfied: lazy-loader>=0.1 in /usr/local/lib/python3.10/dist-packages (from librosa) (0.4)\n",
            "Requirement already satisfied: msgpack>=1.0 in /usr/local/lib/python3.10/dist-packages (from librosa) (1.0.8)\n",
            "Requirement already satisfied: filelock in /usr/local/lib/python3.10/dist-packages (from transformers) (3.14.0)\n",
            "Requirement already satisfied: huggingface-hub<1.0,>=0.19.3 in /usr/local/lib/python3.10/dist-packages (from transformers) (0.23.0)\n",
            "Requirement already satisfied: packaging>=20.0 in /usr/local/lib/python3.10/dist-packages (from transformers) (24.0)\n",
            "Requirement already satisfied: pyyaml>=5.1 in /usr/local/lib/python3.10/dist-packages (from transformers) (6.0.1)\n",
            "Requirement already satisfied: regex!=2019.12.17 in /usr/local/lib/python3.10/dist-packages (from transformers) (2023.12.25)\n",
            "Requirement already satisfied: requests in /usr/local/lib/python3.10/dist-packages (from transformers) (2.31.0)\n",
            "Requirement already satisfied: tokenizers<0.20,>=0.19 in /usr/local/lib/python3.10/dist-packages (from transformers) (0.19.1)\n",
            "Requirement already satisfied: safetensors>=0.4.1 in /usr/local/lib/python3.10/dist-packages (from transformers) (0.4.3)\n",
            "Requirement already satisfied: tqdm>=4.27 in /usr/local/lib/python3.10/dist-packages (from transformers) (4.66.2)\n",
            "Requirement already satisfied: sympy in /usr/local/lib/python3.10/dist-packages (from torch) (1.12)\n",
            "Requirement already satisfied: networkx in /usr/local/lib/python3.10/dist-packages (from torch) (3.3)\n",
            "Requirement already satisfied: jinja2 in /usr/local/lib/python3.10/dist-packages (from torch) (3.1.3)\n",
            "Requirement already satisfied: fsspec in /usr/local/lib/python3.10/dist-packages (from torch) (2023.6.0)\n",
            "Requirement already satisfied: nvidia-cuda-nvrtc-cu12==12.1.105 in /root/.local/lib/python3.10/site-packages (from torch) (12.1.105)\n",
            "Requirement already satisfied: nvidia-cuda-runtime-cu12==12.1.105 in /root/.local/lib/python3.10/site-packages (from torch) (12.1.105)\n",
            "Requirement already satisfied: nvidia-cuda-cupti-cu12==12.1.105 in /root/.local/lib/python3.10/site-packages (from torch) (12.1.105)\n",
            "Requirement already satisfied: nvidia-cudnn-cu12==8.9.2.26 in /root/.local/lib/python3.10/site-packages (from torch) (8.9.2.26)\n",
            "Requirement already satisfied: nvidia-cublas-cu12==12.1.3.1 in /root/.local/lib/python3.10/site-packages (from torch) (12.1.3.1)\n",
            "Requirement already satisfied: nvidia-cufft-cu12==11.0.2.54 in /root/.local/lib/python3.10/site-packages (from torch) (11.0.2.54)\n",
            "Requirement already satisfied: nvidia-curand-cu12==10.3.2.106 in /root/.local/lib/python3.10/site-packages (from torch) (10.3.2.106)\n",
            "Requirement already satisfied: nvidia-cusolver-cu12==11.4.5.107 in /root/.local/lib/python3.10/site-packages (from torch) (11.4.5.107)\n",
            "Requirement already satisfied: nvidia-cusparse-cu12==12.1.0.106 in /root/.local/lib/python3.10/site-packages (from torch) (12.1.0.106)\n",
            "Requirement already satisfied: nvidia-nccl-cu12==2.19.3 in /root/.local/lib/python3.10/site-packages (from torch) (2.19.3)\n",
            "Requirement already satisfied: nvidia-nvtx-cu12==12.1.105 in /root/.local/lib/python3.10/site-packages (from torch) (12.1.105)\n",
            "Requirement already satisfied: triton==2.2.0 in /usr/local/lib/python3.10/dist-packages (from torch) (2.2.0)\n",
            "Requirement already satisfied: nvidia-nvjitlink-cu12 in /root/.local/lib/python3.10/site-packages (from nvidia-cusolver-cu12==11.4.5.107->torch) (12.4.127)\n",
            "Requirement already satisfied: llvmlite<0.42,>=0.41.0dev0 in /usr/local/lib/python3.10/dist-packages (from numba>=0.51.0->librosa) (0.41.1)\n",
            "Requirement already satisfied: platformdirs>=2.5.0 in /usr/local/lib/python3.10/dist-packages (from pooch>=1.0->librosa) (4.2.1)\n",
            "Requirement already satisfied: charset-normalizer<4,>=2 in /usr/local/lib/python3.10/dist-packages (from requests->transformers) (3.3.2)\n",
            "Requirement already satisfied: idna<4,>=2.5 in /usr/local/lib/python3.10/dist-packages (from requests->transformers) (3.7)\n",
            "Requirement already satisfied: urllib3<3,>=1.21.1 in /usr/local/lib/python3.10/dist-packages (from requests->transformers) (2.0.7)\n",
            "Requirement already satisfied: certifi>=2017.4.17 in /usr/local/lib/python3.10/dist-packages (from requests->transformers) (2024.2.2)\n",
            "Requirement already satisfied: threadpoolctl>=2.0.0 in /usr/local/lib/python3.10/dist-packages (from scikit-learn>=0.20.0->librosa) (3.5.0)\n",
            "Requirement already satisfied: cffi>=1.0 in /usr/local/lib/python3.10/dist-packages (from soundfile>=0.12.1->librosa) (1.16.0)\n",
            "Requirement already satisfied: MarkupSafe>=2.0 in /usr/local/lib/python3.10/dist-packages (from jinja2->torch) (2.1.5)\n",
            "Requirement already satisfied: mpmath>=0.19 in /usr/local/lib/python3.10/dist-packages (from sympy->torch) (1.3.0)\n",
            "Requirement already satisfied: pycparser in /usr/local/lib/python3.10/dist-packages (from cffi>=1.0->soundfile>=0.12.1->librosa) (2.22)\n",
            "Requirement already satisfied: transformers in /usr/local/lib/python3.10/dist-packages (4.40.1)\n",
            "Requirement already satisfied: datasets in /usr/local/lib/python3.10/dist-packages (2.19.0)\n",
            "Requirement already satisfied: filelock in /usr/local/lib/python3.10/dist-packages (from transformers) (3.14.0)\n",
            "Requirement already satisfied: huggingface-hub<1.0,>=0.19.3 in /usr/local/lib/python3.10/dist-packages (from transformers) (0.23.0)\n",
            "Requirement already satisfied: numpy>=1.17 in /usr/local/lib/python3.10/dist-packages (from transformers) (1.25.2)\n",
            "Requirement already satisfied: packaging>=20.0 in /usr/local/lib/python3.10/dist-packages (from transformers) (24.0)\n",
            "Requirement already satisfied: pyyaml>=5.1 in /usr/local/lib/python3.10/dist-packages (from transformers) (6.0.1)\n",
            "Requirement already satisfied: regex!=2019.12.17 in /usr/local/lib/python3.10/dist-packages (from transformers) (2023.12.25)\n",
            "Requirement already satisfied: requests in /usr/local/lib/python3.10/dist-packages (from transformers) (2.31.0)\n",
            "Requirement already satisfied: tokenizers<0.20,>=0.19 in /usr/local/lib/python3.10/dist-packages (from transformers) (0.19.1)\n",
            "Requirement already satisfied: safetensors>=0.4.1 in /usr/local/lib/python3.10/dist-packages (from transformers) (0.4.3)\n",
            "Requirement already satisfied: tqdm>=4.27 in /usr/local/lib/python3.10/dist-packages (from transformers) (4.66.2)\n",
            "Requirement already satisfied: pyarrow>=12.0.0 in /usr/local/lib/python3.10/dist-packages (from datasets) (14.0.2)\n",
            "Requirement already satisfied: pyarrow-hotfix in /usr/local/lib/python3.10/dist-packages (from datasets) (0.6)\n",
            "Requirement already satisfied: dill<0.3.9,>=0.3.0 in /usr/local/lib/python3.10/dist-packages (from datasets) (0.3.8)\n",
            "Requirement already satisfied: pandas in /usr/local/lib/python3.10/dist-packages (from datasets) (2.0.3)\n",
            "Requirement already satisfied: xxhash in /usr/local/lib/python3.10/dist-packages (from datasets) (3.4.1)\n",
            "Requirement already satisfied: multiprocess in /usr/local/lib/python3.10/dist-packages (from datasets) (0.70.16)\n",
            "Requirement already satisfied: fsspec[http]<=2024.3.1,>=2023.1.0 in /usr/local/lib/python3.10/dist-packages (from datasets) (2023.6.0)\n",
            "Requirement already satisfied: aiohttp in /usr/local/lib/python3.10/dist-packages (from datasets) (3.9.5)\n",
            "Requirement already satisfied: aiosignal>=1.1.2 in /usr/local/lib/python3.10/dist-packages (from aiohttp->datasets) (1.3.1)\n",
            "Requirement already satisfied: attrs>=17.3.0 in /usr/local/lib/python3.10/dist-packages (from aiohttp->datasets) (23.2.0)\n",
            "Requirement already satisfied: frozenlist>=1.1.1 in /usr/local/lib/python3.10/dist-packages (from aiohttp->datasets) (1.4.1)\n",
            "Requirement already satisfied: multidict<7.0,>=4.5 in /usr/local/lib/python3.10/dist-packages (from aiohttp->datasets) (6.0.5)\n",
            "Requirement already satisfied: yarl<2.0,>=1.0 in /usr/local/lib/python3.10/dist-packages (from aiohttp->datasets) (1.9.4)\n",
            "Requirement already satisfied: async-timeout<5.0,>=4.0 in /usr/local/lib/python3.10/dist-packages (from aiohttp->datasets) (4.0.3)\n",
            "Requirement already satisfied: typing-extensions>=3.7.4.3 in /usr/local/lib/python3.10/dist-packages (from huggingface-hub<1.0,>=0.19.3->transformers) (4.11.0)\n",
            "Requirement already satisfied: charset-normalizer<4,>=2 in /usr/local/lib/python3.10/dist-packages (from requests->transformers) (3.3.2)\n",
            "Requirement already satisfied: idna<4,>=2.5 in /usr/local/lib/python3.10/dist-packages (from requests->transformers) (3.7)\n",
            "Requirement already satisfied: urllib3<3,>=1.21.1 in /usr/local/lib/python3.10/dist-packages (from requests->transformers) (2.0.7)\n",
            "Requirement already satisfied: certifi>=2017.4.17 in /usr/local/lib/python3.10/dist-packages (from requests->transformers) (2024.2.2)\n",
            "Requirement already satisfied: python-dateutil>=2.8.2 in /usr/local/lib/python3.10/dist-packages (from pandas->datasets) (2.8.2)\n",
            "Requirement already satisfied: pytz>=2020.1 in /usr/local/lib/python3.10/dist-packages (from pandas->datasets) (2023.4)\n",
            "Requirement already satisfied: tzdata>=2022.1 in /usr/local/lib/python3.10/dist-packages (from pandas->datasets) (2024.1)\n",
            "Requirement already satisfied: six>=1.5 in /usr/local/lib/python3.10/dist-packages (from python-dateutil>=2.8.2->pandas->datasets) (1.16.0)\n",
            "Requirement already satisfied: datasets[audio] in /usr/local/lib/python3.10/dist-packages (2.19.0)\n",
            "Requirement already satisfied: transformers in /usr/local/lib/python3.10/dist-packages (4.40.1)\n",
            "Requirement already satisfied: accelerate in /usr/local/lib/python3.10/dist-packages (0.29.3)\n",
            "Requirement already satisfied: evaluate in /usr/local/lib/python3.10/dist-packages (0.4.2)\n",
            "Requirement already satisfied: jiwer in /usr/local/lib/python3.10/dist-packages (3.0.3)\n",
            "Requirement already satisfied: tensorboard in /usr/local/lib/python3.10/dist-packages (2.16.2)\n",
            "Requirement already satisfied: gradio in /usr/local/lib/python3.10/dist-packages (4.28.3)\n",
            "Requirement already satisfied: filelock in /usr/local/lib/python3.10/dist-packages (from datasets[audio]) (3.14.0)\n",
            "Requirement already satisfied: numpy>=1.17 in /usr/local/lib/python3.10/dist-packages (from datasets[audio]) (1.25.2)\n",
            "Requirement already satisfied: pyarrow>=12.0.0 in /usr/local/lib/python3.10/dist-packages (from datasets[audio]) (14.0.2)\n",
            "Requirement already satisfied: pyarrow-hotfix in /usr/local/lib/python3.10/dist-packages (from datasets[audio]) (0.6)\n",
            "Requirement already satisfied: dill<0.3.9,>=0.3.0 in /usr/local/lib/python3.10/dist-packages (from datasets[audio]) (0.3.8)\n",
            "Requirement already satisfied: pandas in /usr/local/lib/python3.10/dist-packages (from datasets[audio]) (2.0.3)\n",
            "Requirement already satisfied: requests>=2.19.0 in /usr/local/lib/python3.10/dist-packages (from datasets[audio]) (2.31.0)\n",
            "Requirement already satisfied: tqdm>=4.62.1 in /usr/local/lib/python3.10/dist-packages (from datasets[audio]) (4.66.2)\n",
            "Requirement already satisfied: xxhash in /usr/local/lib/python3.10/dist-packages (from datasets[audio]) (3.4.1)\n",
            "Requirement already satisfied: multiprocess in /usr/local/lib/python3.10/dist-packages (from datasets[audio]) (0.70.16)\n",
            "Requirement already satisfied: fsspec[http]<=2024.3.1,>=2023.1.0 in /usr/local/lib/python3.10/dist-packages (from datasets[audio]) (2023.6.0)\n",
            "Requirement already satisfied: aiohttp in /usr/local/lib/python3.10/dist-packages (from datasets[audio]) (3.9.5)\n",
            "Requirement already satisfied: huggingface-hub>=0.21.2 in /usr/local/lib/python3.10/dist-packages (from datasets[audio]) (0.23.0)\n",
            "Requirement already satisfied: packaging in /usr/local/lib/python3.10/dist-packages (from datasets[audio]) (24.0)\n",
            "Requirement already satisfied: pyyaml>=5.1 in /usr/local/lib/python3.10/dist-packages (from datasets[audio]) (6.0.1)\n",
            "Requirement already satisfied: soundfile>=0.12.1 in /usr/local/lib/python3.10/dist-packages (from datasets[audio]) (0.12.1)\n",
            "Requirement already satisfied: librosa in /usr/local/lib/python3.10/dist-packages (from datasets[audio]) (0.10.1)\n",
            "Requirement already satisfied: regex!=2019.12.17 in /usr/local/lib/python3.10/dist-packages (from transformers) (2023.12.25)\n",
            "Requirement already satisfied: tokenizers<0.20,>=0.19 in /usr/local/lib/python3.10/dist-packages (from transformers) (0.19.1)\n",
            "Requirement already satisfied: safetensors>=0.4.1 in /usr/local/lib/python3.10/dist-packages (from transformers) (0.4.3)\n",
            "Requirement already satisfied: psutil in /usr/local/lib/python3.10/dist-packages (from accelerate) (5.9.5)\n",
            "Requirement already satisfied: torch>=1.10.0 in /usr/local/lib/python3.10/dist-packages (from accelerate) (2.2.1+cu121)\n",
            "Requirement already satisfied: click<9.0.0,>=8.1.3 in /usr/local/lib/python3.10/dist-packages (from jiwer) (8.1.7)\n",
            "Requirement already satisfied: rapidfuzz<4,>=3 in /usr/local/lib/python3.10/dist-packages (from jiwer) (3.9.0)\n",
            "Requirement already satisfied: absl-py>=0.4 in /usr/local/lib/python3.10/dist-packages (from tensorboard) (1.4.0)\n",
            "Requirement already satisfied: grpcio>=1.48.2 in /usr/local/lib/python3.10/dist-packages (from tensorboard) (1.63.0)\n",
            "Requirement already satisfied: markdown>=2.6.8 in /usr/local/lib/python3.10/dist-packages (from tensorboard) (3.6)\n",
            "Requirement already satisfied: protobuf!=4.24.0,>=3.19.6 in /usr/local/lib/python3.10/dist-packages (from tensorboard) (3.20.3)\n",
            "Requirement already satisfied: setuptools>=41.0.0 in /usr/local/lib/python3.10/dist-packages (from tensorboard) (67.7.2)\n",
            "Requirement already satisfied: six>1.9 in /usr/local/lib/python3.10/dist-packages (from tensorboard) (1.16.0)\n",
            "Requirement already satisfied: tensorboard-data-server<0.8.0,>=0.7.0 in /usr/local/lib/python3.10/dist-packages (from tensorboard) (0.7.2)\n",
            "Requirement already satisfied: werkzeug>=1.0.1 in /usr/local/lib/python3.10/dist-packages (from tensorboard) (3.0.2)\n",
            "Requirement already satisfied: aiofiles<24.0,>=22.0 in /usr/local/lib/python3.10/dist-packages (from gradio) (23.2.1)\n",
            "Requirement already satisfied: altair<6.0,>=4.2.0 in /usr/local/lib/python3.10/dist-packages (from gradio) (4.2.2)\n",
            "Requirement already satisfied: fastapi in /usr/local/lib/python3.10/dist-packages (from gradio) (0.111.0)\n",
            "Requirement already satisfied: ffmpy in /usr/local/lib/python3.10/dist-packages (from gradio) (0.3.2)\n",
            "Requirement already satisfied: gradio-client==0.16.0 in /usr/local/lib/python3.10/dist-packages (from gradio) (0.16.0)\n",
            "Requirement already satisfied: httpx>=0.24.1 in /usr/local/lib/python3.10/dist-packages (from gradio) (0.27.0)\n",
            "Requirement already satisfied: importlib-resources<7.0,>=1.3 in /usr/local/lib/python3.10/dist-packages (from gradio) (6.4.0)\n",
            "Requirement already satisfied: jinja2<4.0 in /usr/local/lib/python3.10/dist-packages (from gradio) (3.1.3)\n",
            "Requirement already satisfied: markupsafe~=2.0 in /usr/local/lib/python3.10/dist-packages (from gradio) (2.1.5)\n",
            "Requirement already satisfied: matplotlib~=3.0 in /usr/local/lib/python3.10/dist-packages (from gradio) (3.7.1)\n",
            "Requirement already satisfied: orjson~=3.0 in /usr/local/lib/python3.10/dist-packages (from gradio) (3.10.2)\n",
            "Requirement already satisfied: pillow<11.0,>=8.0 in /usr/local/lib/python3.10/dist-packages (from gradio) (9.4.0)\n",
            "Requirement already satisfied: pydantic>=2.0 in /usr/local/lib/python3.10/dist-packages (from gradio) (2.7.1)\n",
            "Requirement already satisfied: pydub in /usr/local/lib/python3.10/dist-packages (from gradio) (0.25.1)\n",
            "Requirement already satisfied: python-multipart>=0.0.9 in /usr/local/lib/python3.10/dist-packages (from gradio) (0.0.9)\n",
            "Requirement already satisfied: ruff>=0.2.2 in /usr/local/lib/python3.10/dist-packages (from gradio) (0.4.2)\n",
            "Requirement already satisfied: semantic-version~=2.0 in /usr/local/lib/python3.10/dist-packages (from gradio) (2.10.0)\n",
            "Requirement already satisfied: tomlkit==0.12.0 in /usr/local/lib/python3.10/dist-packages (from gradio) (0.12.0)\n",
            "Requirement already satisfied: typer<1.0,>=0.12 in /usr/local/lib/python3.10/dist-packages (from gradio) (0.12.3)\n",
            "Requirement already satisfied: typing-extensions~=4.0 in /usr/local/lib/python3.10/dist-packages (from gradio) (4.11.0)\n",
            "Requirement already satisfied: urllib3~=2.0 in /usr/local/lib/python3.10/dist-packages (from gradio) (2.0.7)\n",
            "Requirement already satisfied: uvicorn>=0.14.0 in /usr/local/lib/python3.10/dist-packages (from gradio) (0.29.0)\n",
            "Requirement already satisfied: websockets<12.0,>=10.0 in /usr/local/lib/python3.10/dist-packages (from gradio-client==0.16.0->gradio) (11.0.3)\n",
            "Requirement already satisfied: entrypoints in /usr/local/lib/python3.10/dist-packages (from altair<6.0,>=4.2.0->gradio) (0.4)\n",
            "Requirement already satisfied: jsonschema>=3.0 in /usr/local/lib/python3.10/dist-packages (from altair<6.0,>=4.2.0->gradio) (4.19.2)\n",
            "Requirement already satisfied: toolz in /usr/local/lib/python3.10/dist-packages (from altair<6.0,>=4.2.0->gradio) (0.12.1)\n",
            "Requirement already satisfied: aiosignal>=1.1.2 in /usr/local/lib/python3.10/dist-packages (from aiohttp->datasets[audio]) (1.3.1)\n",
            "Requirement already satisfied: attrs>=17.3.0 in /usr/local/lib/python3.10/dist-packages (from aiohttp->datasets[audio]) (23.2.0)\n",
            "Requirement already satisfied: frozenlist>=1.1.1 in /usr/local/lib/python3.10/dist-packages (from aiohttp->datasets[audio]) (1.4.1)\n",
            "Requirement already satisfied: multidict<7.0,>=4.5 in /usr/local/lib/python3.10/dist-packages (from aiohttp->datasets[audio]) (6.0.5)\n",
            "Requirement already satisfied: yarl<2.0,>=1.0 in /usr/local/lib/python3.10/dist-packages (from aiohttp->datasets[audio]) (1.9.4)\n",
            "Requirement already satisfied: async-timeout<5.0,>=4.0 in /usr/local/lib/python3.10/dist-packages (from aiohttp->datasets[audio]) (4.0.3)\n",
            "Requirement already satisfied: anyio in /usr/local/lib/python3.10/dist-packages (from httpx>=0.24.1->gradio) (3.7.1)\n",
            "Requirement already satisfied: certifi in /usr/local/lib/python3.10/dist-packages (from httpx>=0.24.1->gradio) (2024.2.2)\n",
            "Requirement already satisfied: httpcore==1.* in /usr/local/lib/python3.10/dist-packages (from httpx>=0.24.1->gradio) (1.0.5)\n",
            "Requirement already satisfied: idna in /usr/local/lib/python3.10/dist-packages (from httpx>=0.24.1->gradio) (3.7)\n",
            "Requirement already satisfied: sniffio in /usr/local/lib/python3.10/dist-packages (from httpx>=0.24.1->gradio) (1.3.1)\n",
            "Requirement already satisfied: h11<0.15,>=0.13 in /usr/local/lib/python3.10/dist-packages (from httpcore==1.*->httpx>=0.24.1->gradio) (0.14.0)\n",
            "Requirement already satisfied: contourpy>=1.0.1 in /usr/local/lib/python3.10/dist-packages (from matplotlib~=3.0->gradio) (1.2.1)\n",
            "Requirement already satisfied: cycler>=0.10 in /usr/local/lib/python3.10/dist-packages (from matplotlib~=3.0->gradio) (0.12.1)\n",
            "Requirement already satisfied: fonttools>=4.22.0 in /usr/local/lib/python3.10/dist-packages (from matplotlib~=3.0->gradio) (4.51.0)\n",
            "Requirement already satisfied: kiwisolver>=1.0.1 in /usr/local/lib/python3.10/dist-packages (from matplotlib~=3.0->gradio) (1.4.5)\n",
            "Requirement already satisfied: pyparsing>=2.3.1 in /usr/local/lib/python3.10/dist-packages (from matplotlib~=3.0->gradio) (3.1.2)\n",
            "Requirement already satisfied: python-dateutil>=2.7 in /usr/local/lib/python3.10/dist-packages (from matplotlib~=3.0->gradio) (2.8.2)\n",
            "Requirement already satisfied: pytz>=2020.1 in /usr/local/lib/python3.10/dist-packages (from pandas->datasets[audio]) (2023.4)\n",
            "Requirement already satisfied: tzdata>=2022.1 in /usr/local/lib/python3.10/dist-packages (from pandas->datasets[audio]) (2024.1)\n",
            "Requirement already satisfied: annotated-types>=0.4.0 in /usr/local/lib/python3.10/dist-packages (from pydantic>=2.0->gradio) (0.6.0)\n",
            "Requirement already satisfied: pydantic-core==2.18.2 in /usr/local/lib/python3.10/dist-packages (from pydantic>=2.0->gradio) (2.18.2)\n",
            "Requirement already satisfied: charset-normalizer<4,>=2 in /usr/local/lib/python3.10/dist-packages (from requests>=2.19.0->datasets[audio]) (3.3.2)\n",
            "Requirement already satisfied: cffi>=1.0 in /usr/local/lib/python3.10/dist-packages (from soundfile>=0.12.1->datasets[audio]) (1.16.0)\n",
            "Requirement already satisfied: sympy in /usr/local/lib/python3.10/dist-packages (from torch>=1.10.0->accelerate) (1.12)\n",
            "Requirement already satisfied: networkx in /usr/local/lib/python3.10/dist-packages (from torch>=1.10.0->accelerate) (3.3)\n",
            "Requirement already satisfied: nvidia-cuda-nvrtc-cu12==12.1.105 in /root/.local/lib/python3.10/site-packages (from torch>=1.10.0->accelerate) (12.1.105)\n",
            "Requirement already satisfied: nvidia-cuda-runtime-cu12==12.1.105 in /root/.local/lib/python3.10/site-packages (from torch>=1.10.0->accelerate) (12.1.105)\n",
            "Requirement already satisfied: nvidia-cuda-cupti-cu12==12.1.105 in /root/.local/lib/python3.10/site-packages (from torch>=1.10.0->accelerate) (12.1.105)\n",
            "Requirement already satisfied: nvidia-cudnn-cu12==8.9.2.26 in /root/.local/lib/python3.10/site-packages (from torch>=1.10.0->accelerate) (8.9.2.26)\n",
            "Requirement already satisfied: nvidia-cublas-cu12==12.1.3.1 in /root/.local/lib/python3.10/site-packages (from torch>=1.10.0->accelerate) (12.1.3.1)\n",
            "Requirement already satisfied: nvidia-cufft-cu12==11.0.2.54 in /root/.local/lib/python3.10/site-packages (from torch>=1.10.0->accelerate) (11.0.2.54)\n",
            "Requirement already satisfied: nvidia-curand-cu12==10.3.2.106 in /root/.local/lib/python3.10/site-packages (from torch>=1.10.0->accelerate) (10.3.2.106)\n",
            "Requirement already satisfied: nvidia-cusolver-cu12==11.4.5.107 in /root/.local/lib/python3.10/site-packages (from torch>=1.10.0->accelerate) (11.4.5.107)\n",
            "Requirement already satisfied: nvidia-cusparse-cu12==12.1.0.106 in /root/.local/lib/python3.10/site-packages (from torch>=1.10.0->accelerate) (12.1.0.106)\n",
            "Requirement already satisfied: nvidia-nccl-cu12==2.19.3 in /root/.local/lib/python3.10/site-packages (from torch>=1.10.0->accelerate) (2.19.3)\n",
            "Requirement already satisfied: nvidia-nvtx-cu12==12.1.105 in /root/.local/lib/python3.10/site-packages (from torch>=1.10.0->accelerate) (12.1.105)\n",
            "Requirement already satisfied: triton==2.2.0 in /usr/local/lib/python3.10/dist-packages (from torch>=1.10.0->accelerate) (2.2.0)\n",
            "Requirement already satisfied: nvidia-nvjitlink-cu12 in /root/.local/lib/python3.10/site-packages (from nvidia-cusolver-cu12==11.4.5.107->torch>=1.10.0->accelerate) (12.4.127)\n",
            "Requirement already satisfied: shellingham>=1.3.0 in /usr/local/lib/python3.10/dist-packages (from typer<1.0,>=0.12->gradio) (1.5.4)\n",
            "Requirement already satisfied: rich>=10.11.0 in /usr/local/lib/python3.10/dist-packages (from typer<1.0,>=0.12->gradio) (13.7.1)\n",
            "Requirement already satisfied: starlette<0.38.0,>=0.37.2 in /usr/local/lib/python3.10/dist-packages (from fastapi->gradio) (0.37.2)\n",
            "Requirement already satisfied: fastapi-cli>=0.0.2 in /usr/local/lib/python3.10/dist-packages (from fastapi->gradio) (0.0.2)\n",
            "Requirement already satisfied: ujson!=4.0.2,!=4.1.0,!=4.2.0,!=4.3.0,!=5.0.0,!=5.1.0,>=4.0.1 in /usr/local/lib/python3.10/dist-packages (from fastapi->gradio) (5.9.0)\n",
            "Requirement already satisfied: email_validator>=2.0.0 in /usr/local/lib/python3.10/dist-packages (from fastapi->gradio) (2.1.1)\n",
            "Requirement already satisfied: audioread>=2.1.9 in /usr/local/lib/python3.10/dist-packages (from librosa->datasets[audio]) (3.0.1)\n",
            "Requirement already satisfied: scipy>=1.2.0 in /usr/local/lib/python3.10/dist-packages (from librosa->datasets[audio]) (1.11.4)\n",
            "Requirement already satisfied: scikit-learn>=0.20.0 in /usr/local/lib/python3.10/dist-packages (from librosa->datasets[audio]) (1.2.2)\n",
            "Requirement already satisfied: joblib>=0.14 in /usr/local/lib/python3.10/dist-packages (from librosa->datasets[audio]) (1.4.0)\n",
            "Requirement already satisfied: decorator>=4.3.0 in /usr/local/lib/python3.10/dist-packages (from librosa->datasets[audio]) (4.4.2)\n",
            "Requirement already satisfied: numba>=0.51.0 in /usr/local/lib/python3.10/dist-packages (from librosa->datasets[audio]) (0.58.1)\n",
            "Requirement already satisfied: pooch>=1.0 in /usr/local/lib/python3.10/dist-packages (from librosa->datasets[audio]) (1.8.1)\n",
            "Requirement already satisfied: soxr>=0.3.2 in /usr/local/lib/python3.10/dist-packages (from librosa->datasets[audio]) (0.3.7)\n",
            "Requirement already satisfied: lazy-loader>=0.1 in /usr/local/lib/python3.10/dist-packages (from librosa->datasets[audio]) (0.4)\n",
            "Requirement already satisfied: msgpack>=1.0 in /usr/local/lib/python3.10/dist-packages (from librosa->datasets[audio]) (1.0.8)\n",
            "Requirement already satisfied: pycparser in /usr/local/lib/python3.10/dist-packages (from cffi>=1.0->soundfile>=0.12.1->datasets[audio]) (2.22)\n",
            "Requirement already satisfied: dnspython>=2.0.0 in /usr/local/lib/python3.10/dist-packages (from email_validator>=2.0.0->fastapi->gradio) (2.6.1)\n",
            "Requirement already satisfied: jsonschema-specifications>=2023.03.6 in /usr/local/lib/python3.10/dist-packages (from jsonschema>=3.0->altair<6.0,>=4.2.0->gradio) (2023.12.1)\n",
            "Requirement already satisfied: referencing>=0.28.4 in /usr/local/lib/python3.10/dist-packages (from jsonschema>=3.0->altair<6.0,>=4.2.0->gradio) (0.35.0)\n",
            "Requirement already satisfied: rpds-py>=0.7.1 in /usr/local/lib/python3.10/dist-packages (from jsonschema>=3.0->altair<6.0,>=4.2.0->gradio) (0.18.0)\n",
            "Requirement already satisfied: llvmlite<0.42,>=0.41.0dev0 in /usr/local/lib/python3.10/dist-packages (from numba>=0.51.0->librosa->datasets[audio]) (0.41.1)\n",
            "Requirement already satisfied: platformdirs>=2.5.0 in /usr/local/lib/python3.10/dist-packages (from pooch>=1.0->librosa->datasets[audio]) (4.2.1)\n",
            "Requirement already satisfied: markdown-it-py>=2.2.0 in /usr/local/lib/python3.10/dist-packages (from rich>=10.11.0->typer<1.0,>=0.12->gradio) (3.0.0)\n",
            "Requirement already satisfied: pygments<3.0.0,>=2.13.0 in /usr/local/lib/python3.10/dist-packages (from rich>=10.11.0->typer<1.0,>=0.12->gradio) (2.16.1)\n",
            "Requirement already satisfied: threadpoolctl>=2.0.0 in /usr/local/lib/python3.10/dist-packages (from scikit-learn>=0.20.0->librosa->datasets[audio]) (3.5.0)\n",
            "Requirement already satisfied: exceptiongroup in /usr/local/lib/python3.10/dist-packages (from anyio->httpx>=0.24.1->gradio) (1.2.1)\n",
            "Requirement already satisfied: httptools>=0.5.0 in /usr/local/lib/python3.10/dist-packages (from uvicorn>=0.14.0->gradio) (0.6.1)\n",
            "Requirement already satisfied: python-dotenv>=0.13 in /usr/local/lib/python3.10/dist-packages (from uvicorn>=0.14.0->gradio) (1.0.1)\n",
            "Requirement already satisfied: uvloop!=0.15.0,!=0.15.1,>=0.14.0 in /usr/local/lib/python3.10/dist-packages (from uvicorn>=0.14.0->gradio) (0.19.0)\n",
            "Requirement already satisfied: watchfiles>=0.13 in /usr/local/lib/python3.10/dist-packages (from uvicorn>=0.14.0->gradio) (0.21.0)\n",
            "Requirement already satisfied: mpmath>=0.19 in /usr/local/lib/python3.10/dist-packages (from sympy->torch>=1.10.0->accelerate) (1.3.0)\n",
            "Requirement already satisfied: mdurl~=0.1 in /usr/local/lib/python3.10/dist-packages (from markdown-it-py>=2.2.0->rich>=10.11.0->typer<1.0,>=0.12->gradio) (0.1.2)\n"
          ]
        }
      ],
      "source": [
        "!pip install --user torchaudio\n",
        "!pip install librosa transformers torch\n",
        "!pip install transformers datasets\n",
        "!pip install --upgrade datasets[audio] transformers accelerate evaluate jiwer tensorboard gradio\n",
        "\n"
      ]
    },
    {
      "cell_type": "code",
      "execution_count": null,
      "metadata": {
        "id": "3dhFlt1_dodG"
      },
      "outputs": [],
      "source": [
        "import torch\n",
        "from torch import nn, optim\n",
        "from torch.utils.data import DataLoader\n",
        "from torchaudio import datasets\n",
        "from torchaudio import transforms\n",
        "import pandas as pd\n",
        "import numpy as np\n",
        "import seaborn as sns\n",
        "import matplotlib.pyplot as plt\n",
        "import librosa\n",
        "import librosa.display\n",
        "from IPython.display import Audio\n",
        "\n",
        "from datasets import load_dataset\n",
        "from sklearn.model_selection import train_test_split\n",
        "import IPython.display as ipd\n"
      ]
    },
    {
      "cell_type": "code",
      "execution_count": null,
      "metadata": {
        "id": "KqCvauJrdoTP",
        "colab": {
          "base_uri": "https://localhost:8080/"
        },
        "outputId": "e0aa3ac0-015c-4b3d-cfe7-19e1e931c506"
      },
      "outputs": [
        {
          "output_type": "stream",
          "name": "stdout",
          "text": [
            "Drive already mounted at /content/drive; to attempt to forcibly remount, call drive.mount(\"/content/drive\", force_remount=True).\n"
          ]
        }
      ],
      "source": [
        "from google.colab import drive\n",
        "drive.mount('/content/drive')"
      ]
    },
    {
      "cell_type": "markdown",
      "metadata": {
        "id": "JBK0EPjzggwk"
      },
      "source": [
        "# Load Model & Data"
      ]
    },
    {
      "cell_type": "markdown",
      "metadata": {
        "id": "JpdfeXkOjxkz"
      },
      "source": [
        "## Mempersiapkan Model Wav2Vec2"
      ]
    },
    {
      "cell_type": "code",
      "execution_count": null,
      "metadata": {
        "colab": {
          "base_uri": "https://localhost:8080/"
        },
        "id": "nb6rhZleVHXN",
        "outputId": "a2067ae9-bd23-4e37-80bc-6ce41cc3a33d"
      },
      "outputs": [
        {
          "output_type": "stream",
          "name": "stderr",
          "text": [
            "Some weights of the model checkpoint at facebook/wav2vec2-base-960h were not used when initializing Wav2Vec2ForCTC: ['wav2vec2.encoder.pos_conv_embed.conv.weight_g', 'wav2vec2.encoder.pos_conv_embed.conv.weight_v']\n",
            "- This IS expected if you are initializing Wav2Vec2ForCTC from the checkpoint of a model trained on another task or with another architecture (e.g. initializing a BertForSequenceClassification model from a BertForPreTraining model).\n",
            "- This IS NOT expected if you are initializing Wav2Vec2ForCTC from the checkpoint of a model that you expect to be exactly identical (initializing a BertForSequenceClassification model from a BertForSequenceClassification model).\n",
            "Some weights of Wav2Vec2ForCTC were not initialized from the model checkpoint at facebook/wav2vec2-base-960h and are newly initialized: ['wav2vec2.encoder.pos_conv_embed.conv.parametrizations.weight.original0', 'wav2vec2.encoder.pos_conv_embed.conv.parametrizations.weight.original1', 'wav2vec2.masked_spec_embed']\n",
            "You should probably TRAIN this model on a down-stream task to be able to use it for predictions and inference.\n"
          ]
        }
      ],
      "source": [
        "\n",
        "from transformers import Wav2Vec2ForCTC, Wav2Vec2Processor\n",
        "\n",
        "model = Wav2Vec2ForCTC.from_pretrained(\"facebook/wav2vec2-base-960h\")\n",
        "processor = Wav2Vec2Processor.from_pretrained(\"facebook/wav2vec2-base-960h\")\n",
        "\n",
        "\n"
      ]
    },
    {
      "cell_type": "markdown",
      "metadata": {
        "id": "rEjCS9QZkP6H"
      },
      "source": [
        "## Mempersiapkan Dataset minds14 - en-AU"
      ]
    },
    {
      "cell_type": "code",
      "execution_count": null,
      "metadata": {
        "colab": {
          "base_uri": "https://localhost:8080/"
        },
        "id": "SI0as16v8ycO",
        "outputId": "50ca5427-2c44-4d14-f3d1-320924e19f9e"
      },
      "outputs": [
        {
          "output_type": "stream",
          "name": "stderr",
          "text": [
            "/usr/local/lib/python3.10/dist-packages/datasets/load.py:1486: FutureWarning: The repository for PolyAI/minds14 contains custom code which must be executed to correctly load the dataset. You can inspect the repository content at https://hf.co/datasets/PolyAI/minds14\n",
            "You can avoid this message in future by passing the argument `trust_remote_code=True`.\n",
            "Passing `trust_remote_code=True` will be mandatory to load this dataset from the next major release of `datasets`.\n",
            "  warnings.warn(\n"
          ]
        },
        {
          "output_type": "stream",
          "name": "stdout",
          "text": [
            "DatasetDict({\n",
            "    train: Dataset({\n",
            "        features: ['path', 'audio', 'transcription', 'english_transcription', 'intent_class', 'lang_id'],\n",
            "        num_rows: 654\n",
            "    })\n",
            "})\n"
          ]
        }
      ],
      "source": [
        "# mengambil data hugging face Minds14 khusus English Australia\n",
        "minds_14 = load_dataset(\"PolyAI/minds14\", \"en-AU\")\n",
        "\n",
        "# menampilkan struktur dataset\n",
        "print(minds_14)\n"
      ]
    },
    {
      "cell_type": "code",
      "execution_count": null,
      "metadata": {
        "id": "TIUO1O1EAqOz"
      },
      "outputs": [],
      "source": [
        "# konversi dataset ke dataframe\n",
        "df = pd.DataFrame(minds_14[\"train\"])"
      ]
    },
    {
      "cell_type": "code",
      "execution_count": null,
      "metadata": {
        "colab": {
          "base_uri": "https://localhost:8080/"
        },
        "id": "oyAs21gTpNB1",
        "outputId": "cbaa40c9-f854-4a09-effa-fd1b7238457a"
      },
      "outputs": [
        {
          "output_type": "execute_result",
          "data": {
            "text/plain": [
              "file_format\n",
              "wav    654\n",
              "Name: count, dtype: int64"
            ]
          },
          "metadata": {},
          "execution_count": 46
        }
      ],
      "source": [
        "# cek file format\n",
        "df['file_format'] = df['path'].str[-3:]\n",
        "\n",
        "df.file_format.value_counts()"
      ]
    },
    {
      "cell_type": "code",
      "execution_count": null,
      "metadata": {
        "colab": {
          "base_uri": "https://localhost:8080/",
          "height": 676
        },
        "id": "4u_DBzhEk2AK",
        "outputId": "9e047c3d-0e9c-4701-d478-63dcdf790e36"
      },
      "outputs": [
        {
          "output_type": "execute_result",
          "data": {
            "text/plain": [
              "                                                 path  \\\n",
              "0   /root/.cache/huggingface/datasets/downloads/ex...   \n",
              "1   /root/.cache/huggingface/datasets/downloads/ex...   \n",
              "2   /root/.cache/huggingface/datasets/downloads/ex...   \n",
              "3   /root/.cache/huggingface/datasets/downloads/ex...   \n",
              "4   /root/.cache/huggingface/datasets/downloads/ex...   \n",
              "5   /root/.cache/huggingface/datasets/downloads/ex...   \n",
              "6   /root/.cache/huggingface/datasets/downloads/ex...   \n",
              "7   /root/.cache/huggingface/datasets/downloads/ex...   \n",
              "8   /root/.cache/huggingface/datasets/downloads/ex...   \n",
              "9   /root/.cache/huggingface/datasets/downloads/ex...   \n",
              "10  /root/.cache/huggingface/datasets/downloads/ex...   \n",
              "11  /root/.cache/huggingface/datasets/downloads/ex...   \n",
              "12  /root/.cache/huggingface/datasets/downloads/ex...   \n",
              "13  /root/.cache/huggingface/datasets/downloads/ex...   \n",
              "14  /root/.cache/huggingface/datasets/downloads/ex...   \n",
              "15  /root/.cache/huggingface/datasets/downloads/ex...   \n",
              "16  /root/.cache/huggingface/datasets/downloads/ex...   \n",
              "17  /root/.cache/huggingface/datasets/downloads/ex...   \n",
              "18  /root/.cache/huggingface/datasets/downloads/ex...   \n",
              "19  /root/.cache/huggingface/datasets/downloads/ex...   \n",
              "\n",
              "                                                audio  \\\n",
              "0   {'path': '/root/.cache/huggingface/datasets/do...   \n",
              "1   {'path': '/root/.cache/huggingface/datasets/do...   \n",
              "2   {'path': '/root/.cache/huggingface/datasets/do...   \n",
              "3   {'path': '/root/.cache/huggingface/datasets/do...   \n",
              "4   {'path': '/root/.cache/huggingface/datasets/do...   \n",
              "5   {'path': '/root/.cache/huggingface/datasets/do...   \n",
              "6   {'path': '/root/.cache/huggingface/datasets/do...   \n",
              "7   {'path': '/root/.cache/huggingface/datasets/do...   \n",
              "8   {'path': '/root/.cache/huggingface/datasets/do...   \n",
              "9   {'path': '/root/.cache/huggingface/datasets/do...   \n",
              "10  {'path': '/root/.cache/huggingface/datasets/do...   \n",
              "11  {'path': '/root/.cache/huggingface/datasets/do...   \n",
              "12  {'path': '/root/.cache/huggingface/datasets/do...   \n",
              "13  {'path': '/root/.cache/huggingface/datasets/do...   \n",
              "14  {'path': '/root/.cache/huggingface/datasets/do...   \n",
              "15  {'path': '/root/.cache/huggingface/datasets/do...   \n",
              "16  {'path': '/root/.cache/huggingface/datasets/do...   \n",
              "17  {'path': '/root/.cache/huggingface/datasets/do...   \n",
              "18  {'path': '/root/.cache/huggingface/datasets/do...   \n",
              "19  {'path': '/root/.cache/huggingface/datasets/do...   \n",
              "\n",
              "                                        transcription  \\\n",
              "0   I would like to pay my electricity bill using ...   \n",
              "1   hello I like to pay for Bill I would actually ...   \n",
              "2                                          pay a bill   \n",
              "3                       my credit card payment is due   \n",
              "4    hi I would like to make a new payment for a bill   \n",
              "5                      hello my credit card bills due   \n",
              "6   hello I've just recently opened up an account ...   \n",
              "7   hey there I'm just calling about making a paym...   \n",
              "8   ID like to pay bills due and I don't send it o...   \n",
              "9                             ID like to pay the bill   \n",
              "10             I like to pay my bill please thank you   \n",
              "11    I want to make a payment on my credit card bill   \n",
              "12            I would like to pay my credit card bill   \n",
              "13           hello how do I make a payment using BPAY   \n",
              "14                               I need to pay a bill   \n",
              "15  good afternoon look I've got my credit card bi...   \n",
              "16                               I have to pay a bill   \n",
              "17  hello ID like to make a payment for a bill it'...   \n",
              "18  I need to pay bill ID like to do it on my cred...   \n",
              "19                                       make payment   \n",
              "\n",
              "                                english_transcription  intent_class  lang_id  \\\n",
              "0   I would like to pay my electricity bill using ...            13        2   \n",
              "1   hello I like to pay for Bill I would actually ...            13        2   \n",
              "2                                          pay a bill            13        2   \n",
              "3                       my credit card payment is due            13        2   \n",
              "4    hi I would like to make a new payment for a bill            13        2   \n",
              "5                      hello my credit card bills due            13        2   \n",
              "6   hello I've just recently opened up an account ...            13        2   \n",
              "7   hey there I'm just calling about making a paym...            13        2   \n",
              "8   ID like to pay bills due and I don't send it o...            13        2   \n",
              "9                             ID like to pay the bill            13        2   \n",
              "10             I like to pay my bill please thank you            13        2   \n",
              "11    I want to make a payment on my credit card bill            13        2   \n",
              "12            I would like to pay my credit card bill            13        2   \n",
              "13           hello how do I make a payment using BPAY            13        2   \n",
              "14                               I need to pay a bill            13        2   \n",
              "15  good afternoon look I've got my credit card bi...            13        2   \n",
              "16                               I have to pay a bill            13        2   \n",
              "17  hello ID like to make a payment for a bill it'...            13        2   \n",
              "18  I need to pay bill ID like to do it on my cred...            13        2   \n",
              "19                                       make payment            13        2   \n",
              "\n",
              "   file_format  \n",
              "0          wav  \n",
              "1          wav  \n",
              "2          wav  \n",
              "3          wav  \n",
              "4          wav  \n",
              "5          wav  \n",
              "6          wav  \n",
              "7          wav  \n",
              "8          wav  \n",
              "9          wav  \n",
              "10         wav  \n",
              "11         wav  \n",
              "12         wav  \n",
              "13         wav  \n",
              "14         wav  \n",
              "15         wav  \n",
              "16         wav  \n",
              "17         wav  \n",
              "18         wav  \n",
              "19         wav  "
            ],
            "text/html": [
              "\n",
              "  <div id=\"df-ed2025c7-b781-4931-9ff2-f8b863795561\" class=\"colab-df-container\">\n",
              "    <div>\n",
              "<style scoped>\n",
              "    .dataframe tbody tr th:only-of-type {\n",
              "        vertical-align: middle;\n",
              "    }\n",
              "\n",
              "    .dataframe tbody tr th {\n",
              "        vertical-align: top;\n",
              "    }\n",
              "\n",
              "    .dataframe thead th {\n",
              "        text-align: right;\n",
              "    }\n",
              "</style>\n",
              "<table border=\"1\" class=\"dataframe\">\n",
              "  <thead>\n",
              "    <tr style=\"text-align: right;\">\n",
              "      <th></th>\n",
              "      <th>path</th>\n",
              "      <th>audio</th>\n",
              "      <th>transcription</th>\n",
              "      <th>english_transcription</th>\n",
              "      <th>intent_class</th>\n",
              "      <th>lang_id</th>\n",
              "      <th>file_format</th>\n",
              "    </tr>\n",
              "  </thead>\n",
              "  <tbody>\n",
              "    <tr>\n",
              "      <th>0</th>\n",
              "      <td>/root/.cache/huggingface/datasets/downloads/ex...</td>\n",
              "      <td>{'path': '/root/.cache/huggingface/datasets/do...</td>\n",
              "      <td>I would like to pay my electricity bill using ...</td>\n",
              "      <td>I would like to pay my electricity bill using ...</td>\n",
              "      <td>13</td>\n",
              "      <td>2</td>\n",
              "      <td>wav</td>\n",
              "    </tr>\n",
              "    <tr>\n",
              "      <th>1</th>\n",
              "      <td>/root/.cache/huggingface/datasets/downloads/ex...</td>\n",
              "      <td>{'path': '/root/.cache/huggingface/datasets/do...</td>\n",
              "      <td>hello I like to pay for Bill I would actually ...</td>\n",
              "      <td>hello I like to pay for Bill I would actually ...</td>\n",
              "      <td>13</td>\n",
              "      <td>2</td>\n",
              "      <td>wav</td>\n",
              "    </tr>\n",
              "    <tr>\n",
              "      <th>2</th>\n",
              "      <td>/root/.cache/huggingface/datasets/downloads/ex...</td>\n",
              "      <td>{'path': '/root/.cache/huggingface/datasets/do...</td>\n",
              "      <td>pay a bill</td>\n",
              "      <td>pay a bill</td>\n",
              "      <td>13</td>\n",
              "      <td>2</td>\n",
              "      <td>wav</td>\n",
              "    </tr>\n",
              "    <tr>\n",
              "      <th>3</th>\n",
              "      <td>/root/.cache/huggingface/datasets/downloads/ex...</td>\n",
              "      <td>{'path': '/root/.cache/huggingface/datasets/do...</td>\n",
              "      <td>my credit card payment is due</td>\n",
              "      <td>my credit card payment is due</td>\n",
              "      <td>13</td>\n",
              "      <td>2</td>\n",
              "      <td>wav</td>\n",
              "    </tr>\n",
              "    <tr>\n",
              "      <th>4</th>\n",
              "      <td>/root/.cache/huggingface/datasets/downloads/ex...</td>\n",
              "      <td>{'path': '/root/.cache/huggingface/datasets/do...</td>\n",
              "      <td>hi I would like to make a new payment for a bill</td>\n",
              "      <td>hi I would like to make a new payment for a bill</td>\n",
              "      <td>13</td>\n",
              "      <td>2</td>\n",
              "      <td>wav</td>\n",
              "    </tr>\n",
              "    <tr>\n",
              "      <th>5</th>\n",
              "      <td>/root/.cache/huggingface/datasets/downloads/ex...</td>\n",
              "      <td>{'path': '/root/.cache/huggingface/datasets/do...</td>\n",
              "      <td>hello my credit card bills due</td>\n",
              "      <td>hello my credit card bills due</td>\n",
              "      <td>13</td>\n",
              "      <td>2</td>\n",
              "      <td>wav</td>\n",
              "    </tr>\n",
              "    <tr>\n",
              "      <th>6</th>\n",
              "      <td>/root/.cache/huggingface/datasets/downloads/ex...</td>\n",
              "      <td>{'path': '/root/.cache/huggingface/datasets/do...</td>\n",
              "      <td>hello I've just recently opened up an account ...</td>\n",
              "      <td>hello I've just recently opened up an account ...</td>\n",
              "      <td>13</td>\n",
              "      <td>2</td>\n",
              "      <td>wav</td>\n",
              "    </tr>\n",
              "    <tr>\n",
              "      <th>7</th>\n",
              "      <td>/root/.cache/huggingface/datasets/downloads/ex...</td>\n",
              "      <td>{'path': '/root/.cache/huggingface/datasets/do...</td>\n",
              "      <td>hey there I'm just calling about making a paym...</td>\n",
              "      <td>hey there I'm just calling about making a paym...</td>\n",
              "      <td>13</td>\n",
              "      <td>2</td>\n",
              "      <td>wav</td>\n",
              "    </tr>\n",
              "    <tr>\n",
              "      <th>8</th>\n",
              "      <td>/root/.cache/huggingface/datasets/downloads/ex...</td>\n",
              "      <td>{'path': '/root/.cache/huggingface/datasets/do...</td>\n",
              "      <td>ID like to pay bills due and I don't send it o...</td>\n",
              "      <td>ID like to pay bills due and I don't send it o...</td>\n",
              "      <td>13</td>\n",
              "      <td>2</td>\n",
              "      <td>wav</td>\n",
              "    </tr>\n",
              "    <tr>\n",
              "      <th>9</th>\n",
              "      <td>/root/.cache/huggingface/datasets/downloads/ex...</td>\n",
              "      <td>{'path': '/root/.cache/huggingface/datasets/do...</td>\n",
              "      <td>ID like to pay the bill</td>\n",
              "      <td>ID like to pay the bill</td>\n",
              "      <td>13</td>\n",
              "      <td>2</td>\n",
              "      <td>wav</td>\n",
              "    </tr>\n",
              "    <tr>\n",
              "      <th>10</th>\n",
              "      <td>/root/.cache/huggingface/datasets/downloads/ex...</td>\n",
              "      <td>{'path': '/root/.cache/huggingface/datasets/do...</td>\n",
              "      <td>I like to pay my bill please thank you</td>\n",
              "      <td>I like to pay my bill please thank you</td>\n",
              "      <td>13</td>\n",
              "      <td>2</td>\n",
              "      <td>wav</td>\n",
              "    </tr>\n",
              "    <tr>\n",
              "      <th>11</th>\n",
              "      <td>/root/.cache/huggingface/datasets/downloads/ex...</td>\n",
              "      <td>{'path': '/root/.cache/huggingface/datasets/do...</td>\n",
              "      <td>I want to make a payment on my credit card bill</td>\n",
              "      <td>I want to make a payment on my credit card bill</td>\n",
              "      <td>13</td>\n",
              "      <td>2</td>\n",
              "      <td>wav</td>\n",
              "    </tr>\n",
              "    <tr>\n",
              "      <th>12</th>\n",
              "      <td>/root/.cache/huggingface/datasets/downloads/ex...</td>\n",
              "      <td>{'path': '/root/.cache/huggingface/datasets/do...</td>\n",
              "      <td>I would like to pay my credit card bill</td>\n",
              "      <td>I would like to pay my credit card bill</td>\n",
              "      <td>13</td>\n",
              "      <td>2</td>\n",
              "      <td>wav</td>\n",
              "    </tr>\n",
              "    <tr>\n",
              "      <th>13</th>\n",
              "      <td>/root/.cache/huggingface/datasets/downloads/ex...</td>\n",
              "      <td>{'path': '/root/.cache/huggingface/datasets/do...</td>\n",
              "      <td>hello how do I make a payment using BPAY</td>\n",
              "      <td>hello how do I make a payment using BPAY</td>\n",
              "      <td>13</td>\n",
              "      <td>2</td>\n",
              "      <td>wav</td>\n",
              "    </tr>\n",
              "    <tr>\n",
              "      <th>14</th>\n",
              "      <td>/root/.cache/huggingface/datasets/downloads/ex...</td>\n",
              "      <td>{'path': '/root/.cache/huggingface/datasets/do...</td>\n",
              "      <td>I need to pay a bill</td>\n",
              "      <td>I need to pay a bill</td>\n",
              "      <td>13</td>\n",
              "      <td>2</td>\n",
              "      <td>wav</td>\n",
              "    </tr>\n",
              "    <tr>\n",
              "      <th>15</th>\n",
              "      <td>/root/.cache/huggingface/datasets/downloads/ex...</td>\n",
              "      <td>{'path': '/root/.cache/huggingface/datasets/do...</td>\n",
              "      <td>good afternoon look I've got my credit card bi...</td>\n",
              "      <td>good afternoon look I've got my credit card bi...</td>\n",
              "      <td>13</td>\n",
              "      <td>2</td>\n",
              "      <td>wav</td>\n",
              "    </tr>\n",
              "    <tr>\n",
              "      <th>16</th>\n",
              "      <td>/root/.cache/huggingface/datasets/downloads/ex...</td>\n",
              "      <td>{'path': '/root/.cache/huggingface/datasets/do...</td>\n",
              "      <td>I have to pay a bill</td>\n",
              "      <td>I have to pay a bill</td>\n",
              "      <td>13</td>\n",
              "      <td>2</td>\n",
              "      <td>wav</td>\n",
              "    </tr>\n",
              "    <tr>\n",
              "      <th>17</th>\n",
              "      <td>/root/.cache/huggingface/datasets/downloads/ex...</td>\n",
              "      <td>{'path': '/root/.cache/huggingface/datasets/do...</td>\n",
              "      <td>hello ID like to make a payment for a bill it'...</td>\n",
              "      <td>hello ID like to make a payment for a bill it'...</td>\n",
              "      <td>13</td>\n",
              "      <td>2</td>\n",
              "      <td>wav</td>\n",
              "    </tr>\n",
              "    <tr>\n",
              "      <th>18</th>\n",
              "      <td>/root/.cache/huggingface/datasets/downloads/ex...</td>\n",
              "      <td>{'path': '/root/.cache/huggingface/datasets/do...</td>\n",
              "      <td>I need to pay bill ID like to do it on my cred...</td>\n",
              "      <td>I need to pay bill ID like to do it on my cred...</td>\n",
              "      <td>13</td>\n",
              "      <td>2</td>\n",
              "      <td>wav</td>\n",
              "    </tr>\n",
              "    <tr>\n",
              "      <th>19</th>\n",
              "      <td>/root/.cache/huggingface/datasets/downloads/ex...</td>\n",
              "      <td>{'path': '/root/.cache/huggingface/datasets/do...</td>\n",
              "      <td>make payment</td>\n",
              "      <td>make payment</td>\n",
              "      <td>13</td>\n",
              "      <td>2</td>\n",
              "      <td>wav</td>\n",
              "    </tr>\n",
              "  </tbody>\n",
              "</table>\n",
              "</div>\n",
              "    <div class=\"colab-df-buttons\">\n",
              "\n",
              "  <div class=\"colab-df-container\">\n",
              "    <button class=\"colab-df-convert\" onclick=\"convertToInteractive('df-ed2025c7-b781-4931-9ff2-f8b863795561')\"\n",
              "            title=\"Convert this dataframe to an interactive table.\"\n",
              "            style=\"display:none;\">\n",
              "\n",
              "  <svg xmlns=\"http://www.w3.org/2000/svg\" height=\"24px\" viewBox=\"0 -960 960 960\">\n",
              "    <path d=\"M120-120v-720h720v720H120Zm60-500h600v-160H180v160Zm220 220h160v-160H400v160Zm0 220h160v-160H400v160ZM180-400h160v-160H180v160Zm440 0h160v-160H620v160ZM180-180h160v-160H180v160Zm440 0h160v-160H620v160Z\"/>\n",
              "  </svg>\n",
              "    </button>\n",
              "\n",
              "  <style>\n",
              "    .colab-df-container {\n",
              "      display:flex;\n",
              "      gap: 12px;\n",
              "    }\n",
              "\n",
              "    .colab-df-convert {\n",
              "      background-color: #E8F0FE;\n",
              "      border: none;\n",
              "      border-radius: 50%;\n",
              "      cursor: pointer;\n",
              "      display: none;\n",
              "      fill: #1967D2;\n",
              "      height: 32px;\n",
              "      padding: 0 0 0 0;\n",
              "      width: 32px;\n",
              "    }\n",
              "\n",
              "    .colab-df-convert:hover {\n",
              "      background-color: #E2EBFA;\n",
              "      box-shadow: 0px 1px 2px rgba(60, 64, 67, 0.3), 0px 1px 3px 1px rgba(60, 64, 67, 0.15);\n",
              "      fill: #174EA6;\n",
              "    }\n",
              "\n",
              "    .colab-df-buttons div {\n",
              "      margin-bottom: 4px;\n",
              "    }\n",
              "\n",
              "    [theme=dark] .colab-df-convert {\n",
              "      background-color: #3B4455;\n",
              "      fill: #D2E3FC;\n",
              "    }\n",
              "\n",
              "    [theme=dark] .colab-df-convert:hover {\n",
              "      background-color: #434B5C;\n",
              "      box-shadow: 0px 1px 3px 1px rgba(0, 0, 0, 0.15);\n",
              "      filter: drop-shadow(0px 1px 2px rgba(0, 0, 0, 0.3));\n",
              "      fill: #FFFFFF;\n",
              "    }\n",
              "  </style>\n",
              "\n",
              "    <script>\n",
              "      const buttonEl =\n",
              "        document.querySelector('#df-ed2025c7-b781-4931-9ff2-f8b863795561 button.colab-df-convert');\n",
              "      buttonEl.style.display =\n",
              "        google.colab.kernel.accessAllowed ? 'block' : 'none';\n",
              "\n",
              "      async function convertToInteractive(key) {\n",
              "        const element = document.querySelector('#df-ed2025c7-b781-4931-9ff2-f8b863795561');\n",
              "        const dataTable =\n",
              "          await google.colab.kernel.invokeFunction('convertToInteractive',\n",
              "                                                    [key], {});\n",
              "        if (!dataTable) return;\n",
              "\n",
              "        const docLinkHtml = 'Like what you see? Visit the ' +\n",
              "          '<a target=\"_blank\" href=https://colab.research.google.com/notebooks/data_table.ipynb>data table notebook</a>'\n",
              "          + ' to learn more about interactive tables.';\n",
              "        element.innerHTML = '';\n",
              "        dataTable['output_type'] = 'display_data';\n",
              "        await google.colab.output.renderOutput(dataTable, element);\n",
              "        const docLink = document.createElement('div');\n",
              "        docLink.innerHTML = docLinkHtml;\n",
              "        element.appendChild(docLink);\n",
              "      }\n",
              "    </script>\n",
              "  </div>\n",
              "\n",
              "\n",
              "<div id=\"df-bd255825-57e5-4256-9cfc-8bd951dad1be\">\n",
              "  <button class=\"colab-df-quickchart\" onclick=\"quickchart('df-bd255825-57e5-4256-9cfc-8bd951dad1be')\"\n",
              "            title=\"Suggest charts\"\n",
              "            style=\"display:none;\">\n",
              "\n",
              "<svg xmlns=\"http://www.w3.org/2000/svg\" height=\"24px\"viewBox=\"0 0 24 24\"\n",
              "     width=\"24px\">\n",
              "    <g>\n",
              "        <path d=\"M19 3H5c-1.1 0-2 .9-2 2v14c0 1.1.9 2 2 2h14c1.1 0 2-.9 2-2V5c0-1.1-.9-2-2-2zM9 17H7v-7h2v7zm4 0h-2V7h2v10zm4 0h-2v-4h2v4z\"/>\n",
              "    </g>\n",
              "</svg>\n",
              "  </button>\n",
              "\n",
              "<style>\n",
              "  .colab-df-quickchart {\n",
              "      --bg-color: #E8F0FE;\n",
              "      --fill-color: #1967D2;\n",
              "      --hover-bg-color: #E2EBFA;\n",
              "      --hover-fill-color: #174EA6;\n",
              "      --disabled-fill-color: #AAA;\n",
              "      --disabled-bg-color: #DDD;\n",
              "  }\n",
              "\n",
              "  [theme=dark] .colab-df-quickchart {\n",
              "      --bg-color: #3B4455;\n",
              "      --fill-color: #D2E3FC;\n",
              "      --hover-bg-color: #434B5C;\n",
              "      --hover-fill-color: #FFFFFF;\n",
              "      --disabled-bg-color: #3B4455;\n",
              "      --disabled-fill-color: #666;\n",
              "  }\n",
              "\n",
              "  .colab-df-quickchart {\n",
              "    background-color: var(--bg-color);\n",
              "    border: none;\n",
              "    border-radius: 50%;\n",
              "    cursor: pointer;\n",
              "    display: none;\n",
              "    fill: var(--fill-color);\n",
              "    height: 32px;\n",
              "    padding: 0;\n",
              "    width: 32px;\n",
              "  }\n",
              "\n",
              "  .colab-df-quickchart:hover {\n",
              "    background-color: var(--hover-bg-color);\n",
              "    box-shadow: 0 1px 2px rgba(60, 64, 67, 0.3), 0 1px 3px 1px rgba(60, 64, 67, 0.15);\n",
              "    fill: var(--button-hover-fill-color);\n",
              "  }\n",
              "\n",
              "  .colab-df-quickchart-complete:disabled,\n",
              "  .colab-df-quickchart-complete:disabled:hover {\n",
              "    background-color: var(--disabled-bg-color);\n",
              "    fill: var(--disabled-fill-color);\n",
              "    box-shadow: none;\n",
              "  }\n",
              "\n",
              "  .colab-df-spinner {\n",
              "    border: 2px solid var(--fill-color);\n",
              "    border-color: transparent;\n",
              "    border-bottom-color: var(--fill-color);\n",
              "    animation:\n",
              "      spin 1s steps(1) infinite;\n",
              "  }\n",
              "\n",
              "  @keyframes spin {\n",
              "    0% {\n",
              "      border-color: transparent;\n",
              "      border-bottom-color: var(--fill-color);\n",
              "      border-left-color: var(--fill-color);\n",
              "    }\n",
              "    20% {\n",
              "      border-color: transparent;\n",
              "      border-left-color: var(--fill-color);\n",
              "      border-top-color: var(--fill-color);\n",
              "    }\n",
              "    30% {\n",
              "      border-color: transparent;\n",
              "      border-left-color: var(--fill-color);\n",
              "      border-top-color: var(--fill-color);\n",
              "      border-right-color: var(--fill-color);\n",
              "    }\n",
              "    40% {\n",
              "      border-color: transparent;\n",
              "      border-right-color: var(--fill-color);\n",
              "      border-top-color: var(--fill-color);\n",
              "    }\n",
              "    60% {\n",
              "      border-color: transparent;\n",
              "      border-right-color: var(--fill-color);\n",
              "    }\n",
              "    80% {\n",
              "      border-color: transparent;\n",
              "      border-right-color: var(--fill-color);\n",
              "      border-bottom-color: var(--fill-color);\n",
              "    }\n",
              "    90% {\n",
              "      border-color: transparent;\n",
              "      border-bottom-color: var(--fill-color);\n",
              "    }\n",
              "  }\n",
              "</style>\n",
              "\n",
              "  <script>\n",
              "    async function quickchart(key) {\n",
              "      const quickchartButtonEl =\n",
              "        document.querySelector('#' + key + ' button');\n",
              "      quickchartButtonEl.disabled = true;  // To prevent multiple clicks.\n",
              "      quickchartButtonEl.classList.add('colab-df-spinner');\n",
              "      try {\n",
              "        const charts = await google.colab.kernel.invokeFunction(\n",
              "            'suggestCharts', [key], {});\n",
              "      } catch (error) {\n",
              "        console.error('Error during call to suggestCharts:', error);\n",
              "      }\n",
              "      quickchartButtonEl.classList.remove('colab-df-spinner');\n",
              "      quickchartButtonEl.classList.add('colab-df-quickchart-complete');\n",
              "    }\n",
              "    (() => {\n",
              "      let quickchartButtonEl =\n",
              "        document.querySelector('#df-bd255825-57e5-4256-9cfc-8bd951dad1be button');\n",
              "      quickchartButtonEl.style.display =\n",
              "        google.colab.kernel.accessAllowed ? 'block' : 'none';\n",
              "    })();\n",
              "  </script>\n",
              "</div>\n",
              "    </div>\n",
              "  </div>\n"
            ],
            "application/vnd.google.colaboratory.intrinsic+json": {
              "type": "dataframe",
              "variable_name": "df",
              "summary": "{\n  \"name\": \"df\",\n  \"rows\": 654,\n  \"fields\": [\n    {\n      \"column\": \"path\",\n      \"properties\": {\n        \"dtype\": \"string\",\n        \"num_unique_values\": 654,\n        \"samples\": [\n          \"/root/.cache/huggingface/datasets/downloads/extracted/28aa727f91fee90575c34956bab09d1716cfaf460c6afcba86a10f04a7d58b83/en-AU~BALANCE/response_29.wav\",\n          \"/root/.cache/huggingface/datasets/downloads/extracted/28aa727f91fee90575c34956bab09d1716cfaf460c6afcba86a10f04a7d58b83/en-AU~FREEZE/response_45.wav\",\n          \"/root/.cache/huggingface/datasets/downloads/extracted/28aa727f91fee90575c34956bab09d1716cfaf460c6afcba86a10f04a7d58b83/en-AU~LATEST_TRANSACTIONS/CA6ef0b4d5c4455c542f8f9884839098b4_14.wav\"\n        ],\n        \"semantic_type\": \"\",\n        \"description\": \"\"\n      }\n    },\n    {\n      \"column\": \"audio\",\n      \"properties\": {\n        \"dtype\": \"object\",\n        \"semantic_type\": \"\",\n        \"description\": \"\"\n      }\n    },\n    {\n      \"column\": \"transcription\",\n      \"properties\": {\n        \"dtype\": \"string\",\n        \"num_unique_values\": 625,\n        \"samples\": [\n          \"hello ID like to enquire about my recent transactions could you please check if there's been any payments or transactions that isn't familiar to previous transaction\",\n          \"I'm calling about recent transaction\",\n          \"can I please change my address\"\n        ],\n        \"semantic_type\": \"\",\n        \"description\": \"\"\n      }\n    },\n    {\n      \"column\": \"english_transcription\",\n      \"properties\": {\n        \"dtype\": \"string\",\n        \"num_unique_values\": 625,\n        \"samples\": [\n          \"hello ID like to enquire about my recent transactions could you please check if there's been any payments or transactions that isn't familiar to previous transaction\",\n          \"I'm calling about recent transaction\",\n          \"can I please change my address\"\n        ],\n        \"semantic_type\": \"\",\n        \"description\": \"\"\n      }\n    },\n    {\n      \"column\": \"intent_class\",\n      \"properties\": {\n        \"dtype\": \"number\",\n        \"std\": 4,\n        \"min\": 0,\n        \"max\": 13,\n        \"num_unique_values\": 14,\n        \"samples\": [\n          5,\n          8,\n          13\n        ],\n        \"semantic_type\": \"\",\n        \"description\": \"\"\n      }\n    },\n    {\n      \"column\": \"lang_id\",\n      \"properties\": {\n        \"dtype\": \"number\",\n        \"std\": 0,\n        \"min\": 2,\n        \"max\": 2,\n        \"num_unique_values\": 1,\n        \"samples\": [\n          2\n        ],\n        \"semantic_type\": \"\",\n        \"description\": \"\"\n      }\n    },\n    {\n      \"column\": \"file_format\",\n      \"properties\": {\n        \"dtype\": \"category\",\n        \"num_unique_values\": 1,\n        \"samples\": [\n          \"wav\"\n        ],\n        \"semantic_type\": \"\",\n        \"description\": \"\"\n      }\n    }\n  ]\n}"
            }
          },
          "metadata": {},
          "execution_count": 12
        }
      ],
      "source": [
        "# menampilkan DataFrame\n",
        "df.head(20)"
      ]
    },
    {
      "cell_type": "code",
      "execution_count": null,
      "metadata": {
        "id": "z234-t1HpM5T"
      },
      "outputs": [],
      "source": []
    },
    {
      "cell_type": "code",
      "execution_count": null,
      "metadata": {
        "colab": {
          "base_uri": "https://localhost:8080/"
        },
        "id": "3KJNZPEAf-ja",
        "outputId": "46b66d3d-deea-4838-c751-c6e973b75229"
      },
      "outputs": [
        {
          "output_type": "stream",
          "name": "stdout",
          "text": [
            "I need to set up a joint account with my partner\n",
            "yes I would like to open a joint account\n",
            "hi I just want to know how do I set up a joint accounts if possible can you run through the steps in the app how to set an account up like resemble what tabs to click on the and just give me an overdue or overall step by step guide on how to do it thank you very much\n",
            "I'm interested in Singapore joint account with my partner how can I go about doing that\n",
            "hello my partner and I are both existing customers but we want to set up a joint account are we able to do that through the app\n",
            "hi Alexa Dr John account with my partner please\n",
            "I want to open a joint account\n",
            "can you help me set up a joint account with my husband I don't know how to do it\n",
            "how can I set up a joint account\n",
            "g'day mate I'm on set up an account for me and my partner are joint account but I don't know how can you walk me through how to thanks mate\n",
            "oh hi there ID like to set up a joint account with my partner and I'm not sure how to go about doing that can you help me please\n",
            "can I have a joint account with my partner\n",
            "how do I set up a joint account\n",
            "hi ID like to know what it takes to get a joint account with my partner how much the fees after the account for an extra card thanks\n",
            "hello I I'm wondering how to set up a joint account and if there are any details I need such as my card number and yellow persons card number to create the joint account so let me know what I need to bring\n",
            "is I would like to set up a joint account can you please advise her to go how I should go about this\n",
            "I'm just wondering how I can set up a joint account with my partner\n",
            "how to set up a joint account with my partner\n",
            "petipa joint account\n",
            "ID like to add my partner to my account\n",
            "hey ID like to set up a bank account for myself and my partner\n",
            "how do I set up a joint account with my partner\n",
            "how do I set up a joint account\n",
            "ID like to set up a joint account please I can't find the option in the app\n",
            "hello ID like to set up a joint account please\n",
            "hi can I set up a joint account with my partner which are the options are in the I am I should should I choose where can I find it\n",
            "g'day I'm not going to set up a joint account with my partner can you help me\n",
            "hi for my savings account I want to make that a joint account with my wife please and I just want to see how I can do that\n",
            "hi I just wanted to find out how I set up the joint account I can't go for it thanks\n",
            "where can I set up a joint account\n",
            "what is it up a joint account\n",
            "hi morning to set up a joint bank account with someone else can you help me about please\n",
            "hi there how do I go about setting up a joint account for me and my partner\n",
            "I need some help setting up in joint account\n",
            "hi there I'm wanting to set up a joint bank account with someone else how do I do that\n",
            "how can I use the website to set up a joint account\n",
            "how do I set set up an account with my partner\n",
            "can you please help me to set up a joint account\n",
            "I just wanted to enquire about how do I open an account with my partner something like a joint account\n",
            "hello how do I set up a joint account\n",
            "where online can I find an option to set up an account for me and my partner\n",
            "I would like to set up a joint account with my wife\n",
            "I am trying to set up a joint account with my partner can you tell me how he said that up please\n",
            "is there an option in the app for a joint account that I could set up with my partner\n",
            "I am speaking to set up a joint account how should I go about this can you please help me with this\n",
            "hi I'm sorry I'm out herself a drink account and if I could have a partner with this so yeah this figure out doctor\n",
            "I am trying to set up a joint account online but I do not understand the steps can you please help me\n",
            "I can't figure out how to create a joint account on the website where's the option for that\n",
            "am I allowed to set up a joint account with anyone\n"
          ]
        }
      ],
      "source": [
        "# menampilkan data englist transcription intent_class 11\n",
        "for i in df.loc[df.intent_class==11,\"english_transcription\"]:\n",
        "  print(i)"
      ]
    },
    {
      "cell_type": "code",
      "execution_count": null,
      "metadata": {
        "colab": {
          "base_uri": "https://localhost:8080/"
        },
        "id": "mTKhUs23gJ0Z",
        "outputId": "ab955c0b-7cab-441d-8fb6-00812fd0e635"
      },
      "outputs": [
        {
          "output_type": "stream",
          "name": "stdout",
          "text": [
            "hello my car has been stolen ID like to put a hold on all transactions\n",
            "I would like to stop all transactions and freeze my credit card\n",
            "n I prove my card on the internet\n",
            "could you please put a freeze on my card\n",
            "I want to stop all future transaction from taking place freeze my card\n",
            "a s good morning I just want to put a block on my ATM card at the moment please\n",
            "please freeze my card\n",
            "hello can you please freeze my card\n",
            "hello I would like to freeze all transactions on my car as of right now is that possible I feel I've lost my car recently and I'm not entirely sure where all her might have it\n",
            "stop all transactions on my card\n",
            "I took all my transaction on my card\n",
            "card like to freeze my card in a for transaction Bank\n",
            "hi I'm just calling because ID like to freeze all transactions on my\n",
            "I don't want any more transaction I like hard please\n",
            "I would like to freeze my card can you please freeze my can't thanks\n",
            "yes good afternoon look at like to stop all transactions on my car off reason it's been stolen and it is point if further and no more transactions are on the card thank you\n",
            "I've lost my card no just like to stop I'll put a freezer in it thanks\n",
            "please put a stop on my card\n",
            "hi there I can you please freeze my account\n",
            "hi I'm calling up but ID like to you freeze my card\n",
            "I just like to freeze my credit card stop all the transaction and coming off\n",
            "I have noticed suspicious activity on my credit card how can I freeze my card so they can't take any more money\n",
            "please block all transactions on my credit card\n",
            "ID like to block my card from using any transaction\n",
            "please block my card\n",
            "I need to freeze my car because I've misplaced it\n",
            "stop all transactions on my card\n",
            "hi can you please block my card I want my card Frozen\n",
            "stop all transactions on my card\n",
            "clip to stop all the transaction on my card I just lost it so I need to freeze my card and put a block on any transactions over the last 24 hours as I lost my card and it needs to be this big locked\n",
            "I am calling because I want to freeze my card on a block all future purchases please\n",
            "please put a stop to any transaction on my car\n",
            "please freeze my card\n",
            "I believe my car has been stolen please freeze my card\n",
            "hi I want to stop all transactions going out of my account please about the account Frozen as soon as possible\n",
            "I need to freeze my card\n",
            "can you freeze my cards for me\n",
            "I want to freeze my card\n",
            "freeze my card\n",
            "I lost my car today I'm ID like to freeze my car so that there are no unexpected transaction\n",
            "hey mate I'm on lock my cardos lost my card so I need the freezer to stop all transactions can you please do that for me\n",
            "I want to put a temporary freeze on my card please\n",
            "I like to enquire about cancelling also freezing all transactions on my account on my card thanks you can help\n",
            "hey mate I'm just at the pub last night and look I've lost my card there's been no transaction on it so far but I just really need it frozen as soon as possible if you do that for me you'd be a bloody legend thank you so much\n",
            "I need some help to freeze my card\n",
            "lock card immediately\n",
            "oh hi there I've just discovered that my card has gone missing and ID like to freeze my car so that no transaction connect her can you help me help me with that please thanks\n"
          ]
        }
      ],
      "source": [
        "for i in df.loc[df.intent_class==9,\"english_transcription\"]:\n",
        "  print(i)"
      ]
    },
    {
      "cell_type": "code",
      "execution_count": null,
      "metadata": {
        "colab": {
          "base_uri": "https://localhost:8080/"
        },
        "id": "5V7MVfNzgPvG",
        "outputId": "40ae83c2-9516-4294-b697-7cb0e6ffa096"
      },
      "outputs": [
        {
          "name": "stdout",
          "output_type": "stream",
          "text": [
            "3 atm_limit\n"
          ]
        }
      ],
      "source": [
        "intent_class = minds_14[\"train\"][142][\"intent_class\"]  # first transcription\n",
        "intent = minds_14[\"train\"].features[\"intent_class\"].names[intent_class]\n",
        "\n",
        "print(intent_class,intent)"
      ]
    },
    {
      "cell_type": "markdown",
      "metadata": {
        "id": "fQbcU5ppgoDd"
      },
      "source": [
        "# Data Exploration"
      ]
    },
    {
      "cell_type": "markdown",
      "source": [
        "## deskripsi data dan pengecekan missing value"
      ],
      "metadata": {
        "id": "qWbLHe8FZHeY"
      }
    },
    {
      "cell_type": "code",
      "execution_count": null,
      "metadata": {
        "id": "mi4y78_4s0A5"
      },
      "outputs": [],
      "source": [
        "\n",
        "df.to_csv('/content/drive/MyDrive/en_au.csv')"
      ]
    },
    {
      "cell_type": "code",
      "execution_count": null,
      "metadata": {
        "colab": {
          "base_uri": "https://localhost:8080/"
        },
        "id": "-z8UTJb_IDbW",
        "outputId": "2dea0a4e-e818-4536-92aa-8aac2dd7962b"
      },
      "outputs": [
        {
          "output_type": "stream",
          "name": "stdout",
          "text": [
            "       intent_class  lang_id\n",
            "count    654.000000    654.0\n",
            "mean       6.663609      2.0\n",
            "std        4.017571      0.0\n",
            "min        0.000000      2.0\n",
            "25%        3.000000      2.0\n",
            "50%        7.000000      2.0\n",
            "75%       10.000000      2.0\n",
            "max       13.000000      2.0\n"
          ]
        }
      ],
      "source": [
        "# Deskripsi Data\n",
        "print(df.describe())\n",
        "\n"
      ]
    },
    {
      "cell_type": "code",
      "execution_count": null,
      "metadata": {
        "colab": {
          "base_uri": "https://localhost:8080/"
        },
        "id": "WLSGYffbII3M",
        "outputId": "f32d981b-fcbe-4d5e-a058-aa1d650fc50f"
      },
      "outputs": [
        {
          "output_type": "stream",
          "name": "stdout",
          "text": [
            "path                     0\n",
            "audio                    0\n",
            "transcription            0\n",
            "english_transcription    0\n",
            "intent_class             0\n",
            "lang_id                  0\n",
            "file_format              0\n",
            "dtype: int64\n"
          ]
        }
      ],
      "source": [
        "# Pengecekan missing value\n",
        "print(df.isnull().sum())"
      ]
    },
    {
      "cell_type": "markdown",
      "source": [
        " Tidak ada missing value sehingga dapat di proses lebih lanjut"
      ],
      "metadata": {
        "id": "_yAhYnO2YKBk"
      }
    },
    {
      "cell_type": "markdown",
      "source": [
        "## Melihat contoh data & transkirp data"
      ],
      "metadata": {
        "id": "Hk8EyS-_Y0YY"
      }
    },
    {
      "cell_type": "code",
      "execution_count": null,
      "metadata": {
        "id": "0D0HH4XYBcj7"
      },
      "outputs": [],
      "source": [
        "# menaikan / load audio file\n",
        "audio_path = df.path[0]\n",
        "audio, sr = librosa.load(audio_path)\n"
      ]
    },
    {
      "cell_type": "code",
      "execution_count": null,
      "metadata": {
        "colab": {
          "base_uri": "https://localhost:8080/",
          "height": 92
        },
        "id": "eBOffup6BcgZ",
        "outputId": "792ecd68-cd30-45a5-bbe1-ed724b9608b5"
      },
      "outputs": [
        {
          "output_type": "stream",
          "name": "stdout",
          "text": [
            "the transcription: I would like to pay my electricity bill using my card can you please assist\n"
          ]
        },
        {
          "output_type": "execute_result",
          "data": {
            "text/plain": [
              "<IPython.lib.display.Audio object>"
            ],
            "text/html": [
              "\n",
              "                <audio  controls=\"controls\" >\n",
              "                    <source src=\"data:audio/x-wav;base64,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\" type=\"audio/x-wav\" />\n",
              "                    Your browser does not support the audio element.\n",
              "                </audio>\n",
              "              "
            ]
          },
          "metadata": {},
          "execution_count": 19
        }
      ],
      "source": [
        "# audio path\n",
        "audio_number_from_dataset = 0\n",
        "audio_path = df.loc[audio_number_from_dataset, 'path']\n",
        "\n",
        "# transkripsi data\n",
        "audio_transcription = df.loc[audio_number_from_dataset, 'transcription']\n",
        "print(\"the transcription:\", audio_transcription)\n",
        "\n",
        "Audio(audio_path)\n"
      ]
    },
    {
      "cell_type": "code",
      "execution_count": null,
      "metadata": {
        "colab": {
          "base_uri": "https://localhost:8080/",
          "height": 472
        },
        "id": "KOU1piUABccR",
        "outputId": "69ed5f3a-56b4-480f-dd17-8cfe6c408747"
      },
      "outputs": [
        {
          "output_type": "display_data",
          "data": {
            "text/plain": [
              "<Figure size 640x480 with 1 Axes>"
            ],
            "image/png": "[encoded data removed]"
          },
          "metadata": {}
        }
      ],
      "source": [
        "# Plot the waveform\n",
        "plt.figure()\n",
        "librosa.display.waveshow(audio, sr=sr)\n",
        "plt.title('Waveform')\n",
        "plt.xlabel('Time (s)')\n",
        "plt.ylabel('Amplitude')\n",
        "plt.show()"
      ]
    },
    {
      "cell_type": "code",
      "execution_count": null,
      "metadata": {
        "id": "z15mggw7BcZP"
      },
      "outputs": [],
      "source": []
    },
    {
      "cell_type": "code",
      "execution_count": null,
      "metadata": {
        "colab": {
          "base_uri": "https://localhost:8080/",
          "height": 472
        },
        "id": "ZKN31cPMDDRr",
        "outputId": "8abf5ce7-05ab-4e63-bb55-03cc13c7a5a7"
      },
      "outputs": [
        {
          "output_type": "display_data",
          "data": {
            "text/plain": [
              "<Figure size 640x480 with 2 Axes>"
            ],
            "image/png": "[encoded data removed]"
          },
          "metadata": {}
        }
      ],
      "source": [
        "# Load audio file\n",
        "audio_path = df.path[0]\n",
        "audio, sr = librosa.load(audio_path)\n",
        "\n",
        "# Compute the spectrogram using STFT\n",
        "D = librosa.stft(audio)\n",
        "S_db = librosa.amplitude_to_db(np.abs(D), ref=np.max)\n",
        "\n",
        "# Plot the spectrogram\n",
        "plt.figure()\n",
        "librosa.display.specshow(S_db, sr=sr, x_axis='time', y_axis='log', cmap='magma')\n",
        "plt.title('Spectrogram')\n",
        "plt.colorbar(label='dB')\n",
        "plt.show()"
      ]
    },
    {
      "cell_type": "code",
      "execution_count": null,
      "metadata": {
        "id": "HDFrjILuDDOX"
      },
      "outputs": [],
      "source": []
    },
    {
      "cell_type": "code",
      "execution_count": null,
      "metadata": {
        "id": "5-s2e-jMDDLJ"
      },
      "outputs": [],
      "source": []
    },
    {
      "cell_type": "code",
      "execution_count": null,
      "metadata": {
        "id": "WQaoGowwES9z"
      },
      "outputs": [],
      "source": []
    },
    {
      "cell_type": "code",
      "execution_count": null,
      "metadata": {
        "id": "tBznDoEFES6a"
      },
      "outputs": [],
      "source": [
        "intent_class_interpret = list()\n",
        "for idx in df.index:\n",
        "  intent_class = minds_14[\"train\"][idx][\"intent_class\"]\n",
        "  interpret = minds_14['train'].features['intent_class'].names[intent_class]\n",
        "  intent_class_interpret.append(interpret)\n",
        "\n",
        "df['intent_class_interpret'] = intent_class_interpret"
      ]
    },
    {
      "cell_type": "code",
      "execution_count": null,
      "metadata": {
        "id": "VcCRYMFxDDIP"
      },
      "outputs": [],
      "source": [
        "# Function to calculate duration of audio files\n",
        "def calculate_duration(audio_path):\n",
        "    audio, sr = librosa.load(audio_path)\n",
        "    duration = len(audio) / sr\n",
        "    return duration\n",
        "\n",
        "# Apply the function to calculate duration for each audio file path in the DataFrame\n",
        "df['duration'] = df['path'].apply(calculate_duration)"
      ]
    },
    {
      "cell_type": "code",
      "execution_count": null,
      "metadata": {
        "colab": {
          "base_uri": "https://localhost:8080/"
        },
        "id": "UYUpUQt5DDFa",
        "outputId": "ea61c755-1a17-41f0-b996-ef771768dc6d"
      },
      "outputs": [
        {
          "output_type": "stream",
          "name": "stdout",
          "text": [
            "intent_class_interpret\n",
            "abroad                 11.504571\n",
            "address                 7.697310\n",
            "app_error               9.713021\n",
            "atm_limit               9.686008\n",
            "balance                 6.498502\n",
            "business_loan           7.586292\n",
            "card_issues             8.326189\n",
            "cash_deposit            7.724855\n",
            "direct_debit            8.014102\n",
            "freeze                  7.371338\n",
            "high_value_payment     11.964272\n",
            "joint_account           7.591903\n",
            "latest_transactions     8.559381\n",
            "pay_bill                6.546775\n",
            "Name: duration, dtype: float64\n"
          ]
        }
      ],
      "source": [
        "# Group the DataFrame by class and calculate the average duration per class\n",
        "avg_duration_per_class = df.groupby('intent_class_interpret')['duration'].mean()\n",
        "\n",
        "# Display the results\n",
        "print(avg_duration_per_class)"
      ]
    },
    {
      "cell_type": "code",
      "execution_count": null,
      "metadata": {
        "id": "ZZYb7HGGDDCp"
      },
      "outputs": [],
      "source": []
    },
    {
      "cell_type": "markdown",
      "metadata": {
        "id": "D32JI-HdHI3w"
      },
      "source": [
        "# Inferencing"
      ]
    },
    {
      "cell_type": "markdown",
      "source": [
        "## Tokenize dengan dengan model pretrained Wav2Vec2-base-960h"
      ],
      "metadata": {
        "id": "qNvZVvxyZX1m"
      }
    },
    {
      "cell_type": "code",
      "execution_count": null,
      "metadata": {
        "id": "8bCopa9uDC_v"
      },
      "outputs": [],
      "source": [
        "import torch\n",
        "from transformers import Wav2Vec2Processor, Wav2Vec2ForCTC, Wav2Vec2Tokenizer"
      ]
    },
    {
      "cell_type": "code",
      "execution_count": null,
      "metadata": {
        "colab": {
          "base_uri": "https://localhost:8080/"
        },
        "id": "0953TEQrDC8-",
        "outputId": "b51ecf1d-1c05-43ac-dd7e-dfcfb4129790"
      },
      "outputs": [
        {
          "output_type": "stream",
          "name": "stderr",
          "text": [
            "The tokenizer class you load from this checkpoint is not the same type as the class this function is called from. It may result in unexpected tokenization. \n",
            "The tokenizer class you load from this checkpoint is 'Wav2Vec2CTCTokenizer'. \n",
            "The class this function is called from is 'Wav2Vec2Tokenizer'.\n",
            "/usr/local/lib/python3.10/dist-packages/transformers/models/wav2vec2/tokenization_wav2vec2.py:720: FutureWarning: The class `Wav2Vec2Tokenizer` is deprecated and will be removed in version 5 of Transformers. Please use `Wav2Vec2Processor` or `Wav2Vec2CTCTokenizer` instead.\n",
            "  warnings.warn(\n",
            "Some weights of the model checkpoint at facebook/wav2vec2-base-960h were not used when initializing Wav2Vec2ForCTC: ['wav2vec2.encoder.pos_conv_embed.conv.weight_g', 'wav2vec2.encoder.pos_conv_embed.conv.weight_v']\n",
            "- This IS expected if you are initializing Wav2Vec2ForCTC from the checkpoint of a model trained on another task or with another architecture (e.g. initializing a BertForSequenceClassification model from a BertForPreTraining model).\n",
            "- This IS NOT expected if you are initializing Wav2Vec2ForCTC from the checkpoint of a model that you expect to be exactly identical (initializing a BertForSequenceClassification model from a BertForSequenceClassification model).\n",
            "Some weights of Wav2Vec2ForCTC were not initialized from the model checkpoint at facebook/wav2vec2-base-960h and are newly initialized: ['wav2vec2.encoder.pos_conv_embed.conv.parametrizations.weight.original0', 'wav2vec2.encoder.pos_conv_embed.conv.parametrizations.weight.original1', 'wav2vec2.masked_spec_embed']\n",
            "You should probably TRAIN this model on a down-stream task to be able to use it for predictions and inference.\n"
          ]
        }
      ],
      "source": [
        "tokenizer = Wav2Vec2Tokenizer.from_pretrained(\"facebook/wav2vec2-base-960h\")\n",
        "model = Wav2Vec2ForCTC.from_pretrained(\"facebook/wav2vec2-base-960h\")"
      ]
    },
    {
      "cell_type": "code",
      "execution_count": null,
      "metadata": {
        "id": "SIvnzZr1OZ_x"
      },
      "outputs": [],
      "source": [
        "wav2vec_predicted = list()\n",
        "wav2vec_inference_time = list()"
      ]
    },
    {
      "cell_type": "code",
      "execution_count": null,
      "metadata": {
        "id": "rOBsYIvERO6k"
      },
      "outputs": [],
      "source": [
        "import time\n",
        "\n",
        "for idx in df.index:\n",
        "  # Load audio file\n",
        "  audio_path = df.path[idx]\n",
        "  start_time = time.time()  # Use time.time() for current time\n",
        "\n",
        "  input_audio, sr = librosa.load(audio_path, sr=16000)\n",
        "\n",
        "  input_values = tokenizer(input_audio, return_tensors='pt').input_values\n",
        "  logits = model(input_values).logits\n",
        "  predicted_ids = torch.argmax(logits, dim=-1)\n",
        "\n",
        "  text = tokenizer.batch_decode(predicted_ids)[0]\n",
        "\n",
        "  end_time = time.time()\n",
        "  inference_time = end_time - start_time\n",
        "\n",
        "  wav2vec_predicted.append(text)\n",
        "  wav2vec_inference_time.append(inference_time)"
      ]
    },
    {
      "cell_type": "markdown",
      "source": [
        "## menampilkan hasil predicted dan inference"
      ],
      "metadata": {
        "id": "ofeW7-4ZZx6x"
      }
    },
    {
      "cell_type": "code",
      "source": [
        "df.shape"
      ],
      "metadata": {
        "colab": {
          "base_uri": "https://localhost:8080/"
        },
        "id": "ZH7YC5uPhf-v",
        "outputId": "0472dbf8-55b2-4396-b540-e00d33ecbfa9"
      },
      "execution_count": null,
      "outputs": [
        {
          "output_type": "execute_result",
          "data": {
            "text/plain": [
              "(654, 6)"
            ]
          },
          "metadata": {},
          "execution_count": 89
        }
      ]
    },
    {
      "cell_type": "code",
      "source": [
        "df['wav2vec_predicted'] = wav2vec_predicted\n",
        "df['wav2vec_inference_time'] = wav2vec_inference_time\n",
        "df.head()"
      ],
      "metadata": {
        "colab": {
          "base_uri": "https://localhost:8080/",
          "height": 292
        },
        "id": "dsbMCVS9hgyC",
        "outputId": "3c1d724a-7f44-48f5-d348-8329528cf3c2"
      },
      "execution_count": null,
      "outputs": [
        {
          "output_type": "execute_result",
          "data": {
            "text/plain": [
              "                                                path  \\\n",
              "0  /root/.cache/huggingface/datasets/downloads/ex...   \n",
              "1  /root/.cache/huggingface/datasets/downloads/ex...   \n",
              "2  /root/.cache/huggingface/datasets/downloads/ex...   \n",
              "3  /root/.cache/huggingface/datasets/downloads/ex...   \n",
              "4  /root/.cache/huggingface/datasets/downloads/ex...   \n",
              "\n",
              "                                               audio  \\\n",
              "0  {'path': '/root/.cache/huggingface/datasets/do...   \n",
              "1  {'path': '/root/.cache/huggingface/datasets/do...   \n",
              "2  {'path': '/root/.cache/huggingface/datasets/do...   \n",
              "3  {'path': '/root/.cache/huggingface/datasets/do...   \n",
              "4  {'path': '/root/.cache/huggingface/datasets/do...   \n",
              "\n",
              "                                       transcription  \\\n",
              "0  i would like to pay my electricity bill using ...   \n",
              "1  hello i like to pay for bill i would actually ...   \n",
              "2                                         pay a bill   \n",
              "3                      my credit card payment is due   \n",
              "4   hi i would like to make a new payment for a bill   \n",
              "\n",
              "                               english_transcription  intent_class  lang_id  \\\n",
              "0  I would like to pay my electricity bill using ...            13        2   \n",
              "1  hello I like to pay for Bill I would actually ...            13        2   \n",
              "2                                         pay a bill            13        2   \n",
              "3                      my credit card payment is due            13        2   \n",
              "4   hi I would like to make a new payment for a bill            13        2   \n",
              "\n",
              "   wav2vec_inference_time                                  wav2vec_predicted  \n",
              "0                0.684869  I WOULD LIKE TO PAY MY ELECTRICITY BILL USING ...  \n",
              "1                0.780234  ELL I LIKE TO PAY FOR BILL IM I OUGHT I SHALL ...  \n",
              "2                0.360111                                           I A MILL  \n",
              "3                0.273007                      MY CREDIT GOD PAYMENT IS JUNE  \n",
              "4                0.379257       WHY I'D LIKE TO MAKE A YE PAYMENT FOR A BILL  "
            ],
            "text/html": [
              "\n",
              "  <div id=\"df-a68d7b69-9137-4690-a632-7a7c566fd870\" class=\"colab-df-container\">\n",
              "    <div>\n",
              "<style scoped>\n",
              "    .dataframe tbody tr th:only-of-type {\n",
              "        vertical-align: middle;\n",
              "    }\n",
              "\n",
              "    .dataframe tbody tr th {\n",
              "        vertical-align: top;\n",
              "    }\n",
              "\n",
              "    .dataframe thead th {\n",
              "        text-align: right;\n",
              "    }\n",
              "</style>\n",
              "<table border=\"1\" class=\"dataframe\">\n",
              "  <thead>\n",
              "    <tr style=\"text-align: right;\">\n",
              "      <th></th>\n",
              "      <th>path</th>\n",
              "      <th>audio</th>\n",
              "      <th>transcription</th>\n",
              "      <th>english_transcription</th>\n",
              "      <th>intent_class</th>\n",
              "      <th>lang_id</th>\n",
              "      <th>wav2vec_inference_time</th>\n",
              "      <th>wav2vec_predicted</th>\n",
              "    </tr>\n",
              "  </thead>\n",
              "  <tbody>\n",
              "    <tr>\n",
              "      <th>0</th>\n",
              "      <td>/root/.cache/huggingface/datasets/downloads/ex...</td>\n",
              "      <td>{'path': '/root/.cache/huggingface/datasets/do...</td>\n",
              "      <td>i would like to pay my electricity bill using ...</td>\n",
              "      <td>I would like to pay my electricity bill using ...</td>\n",
              "      <td>13</td>\n",
              "      <td>2</td>\n",
              "      <td>0.684869</td>\n",
              "      <td>I WOULD LIKE TO PAY MY ELECTRICITY BILL USING ...</td>\n",
              "    </tr>\n",
              "    <tr>\n",
              "      <th>1</th>\n",
              "      <td>/root/.cache/huggingface/datasets/downloads/ex...</td>\n",
              "      <td>{'path': '/root/.cache/huggingface/datasets/do...</td>\n",
              "      <td>hello i like to pay for bill i would actually ...</td>\n",
              "      <td>hello I like to pay for Bill I would actually ...</td>\n",
              "      <td>13</td>\n",
              "      <td>2</td>\n",
              "      <td>0.780234</td>\n",
              "      <td>ELL I LIKE TO PAY FOR BILL IM I OUGHT I SHALL ...</td>\n",
              "    </tr>\n",
              "    <tr>\n",
              "      <th>2</th>\n",
              "      <td>/root/.cache/huggingface/datasets/downloads/ex...</td>\n",
              "      <td>{'path': '/root/.cache/huggingface/datasets/do...</td>\n",
              "      <td>pay a bill</td>\n",
              "      <td>pay a bill</td>\n",
              "      <td>13</td>\n",
              "      <td>2</td>\n",
              "      <td>0.360111</td>\n",
              "      <td>I A MILL</td>\n",
              "    </tr>\n",
              "    <tr>\n",
              "      <th>3</th>\n",
              "      <td>/root/.cache/huggingface/datasets/downloads/ex...</td>\n",
              "      <td>{'path': '/root/.cache/huggingface/datasets/do...</td>\n",
              "      <td>my credit card payment is due</td>\n",
              "      <td>my credit card payment is due</td>\n",
              "      <td>13</td>\n",
              "      <td>2</td>\n",
              "      <td>0.273007</td>\n",
              "      <td>MY CREDIT GOD PAYMENT IS JUNE</td>\n",
              "    </tr>\n",
              "    <tr>\n",
              "      <th>4</th>\n",
              "      <td>/root/.cache/huggingface/datasets/downloads/ex...</td>\n",
              "      <td>{'path': '/root/.cache/huggingface/datasets/do...</td>\n",
              "      <td>hi i would like to make a new payment for a bill</td>\n",
              "      <td>hi I would like to make a new payment for a bill</td>\n",
              "      <td>13</td>\n",
              "      <td>2</td>\n",
              "      <td>0.379257</td>\n",
              "      <td>WHY I'D LIKE TO MAKE A YE PAYMENT FOR A BILL</td>\n",
              "    </tr>\n",
              "  </tbody>\n",
              "</table>\n",
              "</div>\n",
              "    <div class=\"colab-df-buttons\">\n",
              "\n",
              "  <div class=\"colab-df-container\">\n",
              "    <button class=\"colab-df-convert\" onclick=\"convertToInteractive('df-a68d7b69-9137-4690-a632-7a7c566fd870')\"\n",
              "            title=\"Convert this dataframe to an interactive table.\"\n",
              "            style=\"display:none;\">\n",
              "\n",
              "  <svg xmlns=\"http://www.w3.org/2000/svg\" height=\"24px\" viewBox=\"0 -960 960 960\">\n",
              "    <path d=\"M120-120v-720h720v720H120Zm60-500h600v-160H180v160Zm220 220h160v-160H400v160Zm0 220h160v-160H400v160ZM180-400h160v-160H180v160Zm440 0h160v-160H620v160ZM180-180h160v-160H180v160Zm440 0h160v-160H620v160Z\"/>\n",
              "  </svg>\n",
              "    </button>\n",
              "\n",
              "  <style>\n",
              "    .colab-df-container {\n",
              "      display:flex;\n",
              "      gap: 12px;\n",
              "    }\n",
              "\n",
              "    .colab-df-convert {\n",
              "      background-color: #E8F0FE;\n",
              "      border: none;\n",
              "      border-radius: 50%;\n",
              "      cursor: pointer;\n",
              "      display: none;\n",
              "      fill: #1967D2;\n",
              "      height: 32px;\n",
              "      padding: 0 0 0 0;\n",
              "      width: 32px;\n",
              "    }\n",
              "\n",
              "    .colab-df-convert:hover {\n",
              "      background-color: #E2EBFA;\n",
              "      box-shadow: 0px 1px 2px rgba(60, 64, 67, 0.3), 0px 1px 3px 1px rgba(60, 64, 67, 0.15);\n",
              "      fill: #174EA6;\n",
              "    }\n",
              "\n",
              "    .colab-df-buttons div {\n",
              "      margin-bottom: 4px;\n",
              "    }\n",
              "\n",
              "    [theme=dark] .colab-df-convert {\n",
              "      background-color: #3B4455;\n",
              "      fill: #D2E3FC;\n",
              "    }\n",
              "\n",
              "    [theme=dark] .colab-df-convert:hover {\n",
              "      background-color: #434B5C;\n",
              "      box-shadow: 0px 1px 3px 1px rgba(0, 0, 0, 0.15);\n",
              "      filter: drop-shadow(0px 1px 2px rgba(0, 0, 0, 0.3));\n",
              "      fill: #FFFFFF;\n",
              "    }\n",
              "  </style>\n",
              "\n",
              "    <script>\n",
              "      const buttonEl =\n",
              "        document.querySelector('#df-a68d7b69-9137-4690-a632-7a7c566fd870 button.colab-df-convert');\n",
              "      buttonEl.style.display =\n",
              "        google.colab.kernel.accessAllowed ? 'block' : 'none';\n",
              "\n",
              "      async function convertToInteractive(key) {\n",
              "        const element = document.querySelector('#df-a68d7b69-9137-4690-a632-7a7c566fd870');\n",
              "        const dataTable =\n",
              "          await google.colab.kernel.invokeFunction('convertToInteractive',\n",
              "                                                    [key], {});\n",
              "        if (!dataTable) return;\n",
              "\n",
              "        const docLinkHtml = 'Like what you see? Visit the ' +\n",
              "          '<a target=\"_blank\" href=https://colab.research.google.com/notebooks/data_table.ipynb>data table notebook</a>'\n",
              "          + ' to learn more about interactive tables.';\n",
              "        element.innerHTML = '';\n",
              "        dataTable['output_type'] = 'display_data';\n",
              "        await google.colab.output.renderOutput(dataTable, element);\n",
              "        const docLink = document.createElement('div');\n",
              "        docLink.innerHTML = docLinkHtml;\n",
              "        element.appendChild(docLink);\n",
              "      }\n",
              "    </script>\n",
              "  </div>\n",
              "\n",
              "\n",
              "<div id=\"df-77ca3bef-f567-4886-a6b3-5adf370ec158\">\n",
              "  <button class=\"colab-df-quickchart\" onclick=\"quickchart('df-77ca3bef-f567-4886-a6b3-5adf370ec158')\"\n",
              "            title=\"Suggest charts\"\n",
              "            style=\"display:none;\">\n",
              "\n",
              "<svg xmlns=\"http://www.w3.org/2000/svg\" height=\"24px\"viewBox=\"0 0 24 24\"\n",
              "     width=\"24px\">\n",
              "    <g>\n",
              "        <path d=\"M19 3H5c-1.1 0-2 .9-2 2v14c0 1.1.9 2 2 2h14c1.1 0 2-.9 2-2V5c0-1.1-.9-2-2-2zM9 17H7v-7h2v7zm4 0h-2V7h2v10zm4 0h-2v-4h2v4z\"/>\n",
              "    </g>\n",
              "</svg>\n",
              "  </button>\n",
              "\n",
              "<style>\n",
              "  .colab-df-quickchart {\n",
              "      --bg-color: #E8F0FE;\n",
              "      --fill-color: #1967D2;\n",
              "      --hover-bg-color: #E2EBFA;\n",
              "      --hover-fill-color: #174EA6;\n",
              "      --disabled-fill-color: #AAA;\n",
              "      --disabled-bg-color: #DDD;\n",
              "  }\n",
              "\n",
              "  [theme=dark] .colab-df-quickchart {\n",
              "      --bg-color: #3B4455;\n",
              "      --fill-color: #D2E3FC;\n",
              "      --hover-bg-color: #434B5C;\n",
              "      --hover-fill-color: #FFFFFF;\n",
              "      --disabled-bg-color: #3B4455;\n",
              "      --disabled-fill-color: #666;\n",
              "  }\n",
              "\n",
              "  .colab-df-quickchart {\n",
              "    background-color: var(--bg-color);\n",
              "    border: none;\n",
              "    border-radius: 50%;\n",
              "    cursor: pointer;\n",
              "    display: none;\n",
              "    fill: var(--fill-color);\n",
              "    height: 32px;\n",
              "    padding: 0;\n",
              "    width: 32px;\n",
              "  }\n",
              "\n",
              "  .colab-df-quickchart:hover {\n",
              "    background-color: var(--hover-bg-color);\n",
              "    box-shadow: 0 1px 2px rgba(60, 64, 67, 0.3), 0 1px 3px 1px rgba(60, 64, 67, 0.15);\n",
              "    fill: var(--button-hover-fill-color);\n",
              "  }\n",
              "\n",
              "  .colab-df-quickchart-complete:disabled,\n",
              "  .colab-df-quickchart-complete:disabled:hover {\n",
              "    background-color: var(--disabled-bg-color);\n",
              "    fill: var(--disabled-fill-color);\n",
              "    box-shadow: none;\n",
              "  }\n",
              "\n",
              "  .colab-df-spinner {\n",
              "    border: 2px solid var(--fill-color);\n",
              "    border-color: transparent;\n",
              "    border-bottom-color: var(--fill-color);\n",
              "    animation:\n",
              "      spin 1s steps(1) infinite;\n",
              "  }\n",
              "\n",
              "  @keyframes spin {\n",
              "    0% {\n",
              "      border-color: transparent;\n",
              "      border-bottom-color: var(--fill-color);\n",
              "      border-left-color: var(--fill-color);\n",
              "    }\n",
              "    20% {\n",
              "      border-color: transparent;\n",
              "      border-left-color: var(--fill-color);\n",
              "      border-top-color: var(--fill-color);\n",
              "    }\n",
              "    30% {\n",
              "      border-color: transparent;\n",
              "      border-left-color: var(--fill-color);\n",
              "      border-top-color: var(--fill-color);\n",
              "      border-right-color: var(--fill-color);\n",
              "    }\n",
              "    40% {\n",
              "      border-color: transparent;\n",
              "      border-right-color: var(--fill-color);\n",
              "      border-top-color: var(--fill-color);\n",
              "    }\n",
              "    60% {\n",
              "      border-color: transparent;\n",
              "      border-right-color: var(--fill-color);\n",
              "    }\n",
              "    80% {\n",
              "      border-color: transparent;\n",
              "      border-right-color: var(--fill-color);\n",
              "      border-bottom-color: var(--fill-color);\n",
              "    }\n",
              "    90% {\n",
              "      border-color: transparent;\n",
              "      border-bottom-color: var(--fill-color);\n",
              "    }\n",
              "  }\n",
              "</style>\n",
              "\n",
              "  <script>\n",
              "    async function quickchart(key) {\n",
              "      const quickchartButtonEl =\n",
              "        document.querySelector('#' + key + ' button');\n",
              "      quickchartButtonEl.disabled = true;  // To prevent multiple clicks.\n",
              "      quickchartButtonEl.classList.add('colab-df-spinner');\n",
              "      try {\n",
              "        const charts = await google.colab.kernel.invokeFunction(\n",
              "            'suggestCharts', [key], {});\n",
              "      } catch (error) {\n",
              "        console.error('Error during call to suggestCharts:', error);\n",
              "      }\n",
              "      quickchartButtonEl.classList.remove('colab-df-spinner');\n",
              "      quickchartButtonEl.classList.add('colab-df-quickchart-complete');\n",
              "    }\n",
              "    (() => {\n",
              "      let quickchartButtonEl =\n",
              "        document.querySelector('#df-77ca3bef-f567-4886-a6b3-5adf370ec158 button');\n",
              "      quickchartButtonEl.style.display =\n",
              "        google.colab.kernel.accessAllowed ? 'block' : 'none';\n",
              "    })();\n",
              "  </script>\n",
              "</div>\n",
              "    </div>\n",
              "  </div>\n"
            ],
            "application/vnd.google.colaboratory.intrinsic+json": {
              "type": "dataframe",
              "variable_name": "df",
              "summary": "{\n  \"name\": \"df\",\n  \"rows\": 654,\n  \"fields\": [\n    {\n      \"column\": \"path\",\n      \"properties\": {\n        \"dtype\": \"string\",\n        \"num_unique_values\": 654,\n        \"samples\": [\n          \"/root/.cache/huggingface/datasets/downloads/extracted/28aa727f91fee90575c34956bab09d1716cfaf460c6afcba86a10f04a7d58b83/en-AU~BALANCE/response_29.wav\",\n          \"/root/.cache/huggingface/datasets/downloads/extracted/28aa727f91fee90575c34956bab09d1716cfaf460c6afcba86a10f04a7d58b83/en-AU~FREEZE/response_45.wav\",\n          \"/root/.cache/huggingface/datasets/downloads/extracted/28aa727f91fee90575c34956bab09d1716cfaf460c6afcba86a10f04a7d58b83/en-AU~LATEST_TRANSACTIONS/CA6ef0b4d5c4455c542f8f9884839098b4_14.wav\"\n        ],\n        \"semantic_type\": \"\",\n        \"description\": \"\"\n      }\n    },\n    {\n      \"column\": \"audio\",\n      \"properties\": {\n        \"dtype\": \"object\",\n        \"semantic_type\": \"\",\n        \"description\": \"\"\n      }\n    },\n    {\n      \"column\": \"transcription\",\n      \"properties\": {\n        \"dtype\": \"string\",\n        \"num_unique_values\": 625,\n        \"samples\": [\n          \"hello id like to enquire about my recent transactions could you please check if there's been any payments or transactions that isn't familiar to previous transaction\",\n          \"i'm calling about recent transaction\",\n          \"can i please change my address\"\n        ],\n        \"semantic_type\": \"\",\n        \"description\": \"\"\n      }\n    },\n    {\n      \"column\": \"english_transcription\",\n      \"properties\": {\n        \"dtype\": \"string\",\n        \"num_unique_values\": 625,\n        \"samples\": [\n          \"hello ID like to enquire about my recent transactions could you please check if there's been any payments or transactions that isn't familiar to previous transaction\",\n          \"I'm calling about recent transaction\",\n          \"can I please change my address\"\n        ],\n        \"semantic_type\": \"\",\n        \"description\": \"\"\n      }\n    },\n    {\n      \"column\": \"intent_class\",\n      \"properties\": {\n        \"dtype\": \"number\",\n        \"std\": 4,\n        \"min\": 0,\n        \"max\": 13,\n        \"num_unique_values\": 14,\n        \"samples\": [\n          5,\n          8,\n          13\n        ],\n        \"semantic_type\": \"\",\n        \"description\": \"\"\n      }\n    },\n    {\n      \"column\": \"lang_id\",\n      \"properties\": {\n        \"dtype\": \"number\",\n        \"std\": 0,\n        \"min\": 2,\n        \"max\": 2,\n        \"num_unique_values\": 1,\n        \"samples\": [\n          2\n        ],\n        \"semantic_type\": \"\",\n        \"description\": \"\"\n      }\n    },\n    {\n      \"column\": \"wav2vec_inference_time\",\n      \"properties\": {\n        \"dtype\": \"number\",\n        \"std\": 0.7703001125070414,\n        \"min\": 0.19572758674621582,\n        \"max\": 11.838934898376465,\n        \"num_unique_values\": 653,\n        \"samples\": [\n          0.6330428123474121\n        ],\n        \"semantic_type\": \"\",\n        \"description\": \"\"\n      }\n    },\n    {\n      \"column\": \"wav2vec_predicted\",\n      \"properties\": {\n        \"dtype\": \"string\",\n        \"num_unique_values\": 647,\n        \"samples\": [\n          \"HAYA CAN YOU TELL ME HOW TO TRANSFER MONEY FROM MY BANK ACCOUNT PLAYS TANGT\"\n        ],\n        \"semantic_type\": \"\",\n        \"description\": \"\"\n      }\n    }\n  ]\n}"
            }
          },
          "metadata": {},
          "execution_count": 94
        }
      ]
    },
    {
      "cell_type": "code",
      "source": [
        "df.to_csv('base_model_inferencing.csv', index=False)"
      ],
      "metadata": {
        "id": "hxfVRsgqhkkl"
      },
      "execution_count": null,
      "outputs": []
    },
    {
      "cell_type": "code",
      "execution_count": null,
      "metadata": {
        "id": "d1L8KTTJROzy",
        "colab": {
          "base_uri": "https://localhost:8080/"
        },
        "outputId": "4410eacd-d7d8-47b0-90ab-8cac9d6733cb"
      },
      "outputs": [
        {
          "output_type": "stream",
          "name": "stdout",
          "text": [
            "Average inference time: 0.8517 seconds\n"
          ]
        }
      ],
      "source": [
        "# melihat perfroma averange inference time\n",
        "if 'wav2vec_inference_time' not in df.columns:\n",
        "    df['wav2vec_inference_time'] = pd.Series(dtype=float)\n",
        "\n",
        "# Menghitung average inference time\n",
        "average_inference_time = df['wav2vec_inference_time'].mean()\n",
        "\n",
        "# Print\n",
        "print(f\"Average inference time: {average_inference_time:.4f} seconds\")"
      ]
    },
    {
      "cell_type": "code",
      "execution_count": null,
      "metadata": {
        "id": "gUmC0A9lROs3"
      },
      "outputs": [],
      "source": []
    },
    {
      "cell_type": "markdown",
      "metadata": {
        "id": "gbKIr3FMOw43"
      },
      "source": [
        "# Mengecek Performa"
      ]
    },
    {
      "cell_type": "code",
      "execution_count": null,
      "metadata": {
        "id": "yyuWTEPZOZ74"
      },
      "outputs": [],
      "source": [
        "import editdistance\n",
        "\n",
        "def calculate_wer(predicted_text, reference_text):\n",
        "    distance = editdistance.eval(predicted_text.split(), reference_text.split())\n",
        "    wer = distance / len(reference_text.split())\n",
        "    return wer\n",
        "\n",
        "def calculate_cer(predicted_text, reference_text):\n",
        "    distance = editdistance.eval(predicted_text, reference_text)\n",
        "    cer = distance / len(reference_text)\n",
        "    return cer\n",
        "\n",
        "from nltk.translate.bleu_score import sentence_bleu\n",
        "from nltk.tokenize import word_tokenize\n",
        "\n",
        "def calculate_bleu_score(predicted_text, reference_text):\n",
        "    predicted_tokens = word_tokenize(predicted_text)\n",
        "    reference_tokens = word_tokenize(reference_text)\n",
        "    bleu_score = sentence_bleu([reference_tokens], predicted_tokens)\n",
        "    return bleu_score"
      ]
    },
    {
      "cell_type": "code",
      "source": [
        "data_metrics = df[['wav2vec_predicted', 'transcription', 'wav2vec_inference_time']]"
      ],
      "metadata": {
        "id": "XmaUSIljhz_J"
      },
      "execution_count": null,
      "outputs": []
    },
    {
      "cell_type": "markdown",
      "source": [
        "## WER Score"
      ],
      "metadata": {
        "id": "RDl3stbwaz16"
      }
    },
    {
      "cell_type": "code",
      "source": [
        "data_metrics['wer'] = data_metrics.apply(lambda row: calculate_wer(row['wav2vec_predicted'], row['transcription']), axis=1)\n",
        "print(\"WER:\")\n",
        "print(np.mean(data_metrics['wer']))"
      ],
      "metadata": {
        "colab": {
          "base_uri": "https://localhost:8080/"
        },
        "id": "DmmvkOWAiGvK",
        "outputId": "d714785e-03be-48a8-ebac-975c615ca833"
      },
      "execution_count": null,
      "outputs": [
        {
          "output_type": "stream",
          "name": "stdout",
          "text": [
            "WER:\n",
            "0.426582592290448\n"
          ]
        },
        {
          "output_type": "stream",
          "name": "stderr",
          "text": [
            "<ipython-input-23-ad75cebb6949>:1: SettingWithCopyWarning: \n",
            "A value is trying to be set on a copy of a slice from a DataFrame.\n",
            "Try using .loc[row_indexer,col_indexer] = value instead\n",
            "\n",
            "See the caveats in the documentation: https://pandas.pydata.org/pandas-docs/stable/user_guide/indexing.html#returning-a-view-versus-a-copy\n",
            "  data_metrics['wer'] = data_metrics.apply(lambda row: calculate_wer(row['wav2vec_predicted'], row['transcription']), axis=1)\n"
          ]
        }
      ]
    },
    {
      "cell_type": "code",
      "source": [],
      "metadata": {
        "id": "k7wcrRw0iGsA"
      },
      "execution_count": null,
      "outputs": []
    },
    {
      "cell_type": "markdown",
      "source": [
        "## CER Score"
      ],
      "metadata": {
        "id": "GuzgNdPba8-Z"
      }
    },
    {
      "cell_type": "code",
      "source": [
        "data_metrics['cer'] = data_metrics.apply(lambda row: calculate_cer(row['wav2vec_predicted'], row['transcription']), axis=1)\n",
        "print(\"\\nCER:\")\n",
        "print(np.mean(data_metrics['cer']))"
      ],
      "metadata": {
        "colab": {
          "base_uri": "https://localhost:8080/"
        },
        "id": "W7l9o0MiiGpA",
        "outputId": "37512b6e-1c9e-41e9-a0a6-9fd203c35681"
      },
      "execution_count": null,
      "outputs": [
        {
          "output_type": "stream",
          "name": "stdout",
          "text": [
            "\n",
            "CER:\n",
            "0.22986828922923327\n"
          ]
        },
        {
          "output_type": "stream",
          "name": "stderr",
          "text": [
            "<ipython-input-24-904c9f932de9>:1: SettingWithCopyWarning: \n",
            "A value is trying to be set on a copy of a slice from a DataFrame.\n",
            "Try using .loc[row_indexer,col_indexer] = value instead\n",
            "\n",
            "See the caveats in the documentation: https://pandas.pydata.org/pandas-docs/stable/user_guide/indexing.html#returning-a-view-versus-a-copy\n",
            "  data_metrics['cer'] = data_metrics.apply(lambda row: calculate_cer(row['wav2vec_predicted'], row['transcription']), axis=1)\n"
          ]
        }
      ]
    },
    {
      "cell_type": "code",
      "source": [],
      "metadata": {
        "id": "FSGipNEwiGmE"
      },
      "execution_count": null,
      "outputs": []
    },
    {
      "cell_type": "markdown",
      "source": [
        "## BLEU Score"
      ],
      "metadata": {
        "id": "GVwni12BbCbJ"
      }
    },
    {
      "cell_type": "code",
      "source": [
        "  import nltk\n",
        "  nltk.download('punkt')\n",
        "\n",
        "\n",
        "data_metrics['bleu_score'] = data_metrics.apply(lambda row: calculate_bleu_score(row['wav2vec_predicted'], row['transcription']), axis=1)\n",
        "print(\"\\nBLEU Score:\")\n",
        "print(np.mean(data_metrics['bleu_score']))"
      ],
      "metadata": {
        "colab": {
          "base_uri": "https://localhost:8080/"
        },
        "id": "ZmvqB08_iGjA",
        "outputId": "8a78081b-c8a1-483d-d044-8e0c5bb0cc91"
      },
      "execution_count": null,
      "outputs": [
        {
          "output_type": "stream",
          "name": "stderr",
          "text": [
            "[nltk_data] Downloading package punkt to /root/nltk_data...\n",
            "[nltk_data]   Package punkt is already up-to-date!\n",
            "/usr/local/lib/python3.10/dist-packages/nltk/translate/bleu_score.py:552: UserWarning: \n",
            "The hypothesis contains 0 counts of 2-gram overlaps.\n",
            "Therefore the BLEU score evaluates to 0, independently of\n",
            "how many N-gram overlaps of lower order it contains.\n",
            "Consider using lower n-gram order or use SmoothingFunction()\n",
            "  warnings.warn(_msg)\n",
            "/usr/local/lib/python3.10/dist-packages/nltk/translate/bleu_score.py:552: UserWarning: \n",
            "The hypothesis contains 0 counts of 3-gram overlaps.\n",
            "Therefore the BLEU score evaluates to 0, independently of\n",
            "how many N-gram overlaps of lower order it contains.\n",
            "Consider using lower n-gram order or use SmoothingFunction()\n",
            "  warnings.warn(_msg)\n",
            "/usr/local/lib/python3.10/dist-packages/nltk/translate/bleu_score.py:552: UserWarning: \n",
            "The hypothesis contains 0 counts of 4-gram overlaps.\n",
            "Therefore the BLEU score evaluates to 0, independently of\n",
            "how many N-gram overlaps of lower order it contains.\n",
            "Consider using lower n-gram order or use SmoothingFunction()\n",
            "  warnings.warn(_msg)\n"
          ]
        },
        {
          "output_type": "stream",
          "name": "stdout",
          "text": [
            "\n",
            "BLEU Score:\n",
            "0.41735648179960744\n"
          ]
        }
      ]
    },
    {
      "cell_type": "code",
      "source": [],
      "metadata": {
        "id": "EvYlpVbch0tJ"
      },
      "execution_count": null,
      "outputs": []
    }
  ],
  "metadata": {
    "colab": {
      "gpuType": "V100",
      "machine_shape": "hm",
      "provenance": [],
      "toc_visible": true,
      "authorship_tag": "ABX9TyMhrjLfiiX8a/fNNgogWeqx",
      "include_colab_link": true
    },
    "kernelspec": {
      "display_name": "Python 3",
      "name": "python3"
    },
    "language_info": {
      "name": "python"
    }
  },
  "nbformat": 4,
  "nbformat_minor": 0
}